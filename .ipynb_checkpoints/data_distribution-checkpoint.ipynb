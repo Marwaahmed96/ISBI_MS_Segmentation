{
 "cells": [
  {
   "cell_type": "code",
   "execution_count": 1,
   "id": "d23d1509",
   "metadata": {},
   "outputs": [],
   "source": [
    "import seaborn as sns\n",
    "import pandas as pd\n",
    "from config import *\n",
    "from images import *\n",
    "\n",
    "import os\n",
    "import glob"
   ]
  },
  {
   "cell_type": "code",
   "execution_count": 2,
   "id": "5a6d739e",
   "metadata": {},
   "outputs": [],
   "source": [
    "path = options['train_folder']\n",
    "modalities=options['modalities'] = ['flair','t2','pd','mprage']\n",
    "\n",
    "patient_data=path+\"{}/{}.nii\"\n",
    "\n",
    "\n",
    "#image = load_img(dirs[0])\n",
    "#img = image[np.nonzero(image)]"
   ]
  },
  {
   "cell_type": "code",
   "execution_count": 3,
   "id": "f3d5548c",
   "metadata": {},
   "outputs": [],
   "source": [
    "_,dirs,_=next(os.walk(path))\n",
    "all_images={}\n",
    "for dir_ in dirs:\n",
    "    for modality in modalities:\n",
    "        img=load_img(patient_data.format(dir_,modality))\n",
    "        img=normalize_image(img)\n",
    "        image=img[np.nonzero(img)]\n",
    "        break\n",
    "    all_images[dir_]= image[:7109136]\n",
    "    #sns.displot(image, kind=\"kde\")"
   ]
  },
  {
   "cell_type": "code",
   "execution_count": 4,
   "id": "6944c80f",
   "metadata": {},
   "outputs": [
    {
     "data": {
      "text/plain": [
       "(7109136, 21)"
      ]
     },
     "execution_count": 4,
     "metadata": {},
     "output_type": "execute_result"
    }
   ],
   "source": [
    "df=pd.DataFrame.from_dict(all_images)\n",
    "df.shape"
   ]
  },
  {
   "cell_type": "code",
   "execution_count": 1,
   "id": "b9882129",
   "metadata": {},
   "outputs": [
    {
     "ename": "NameError",
     "evalue": "name 'sns' is not defined",
     "output_type": "error",
     "traceback": [
      "\u001b[0;31m---------------------------------------------------------------------------\u001b[0m",
      "\u001b[0;31mNameError\u001b[0m                                 Traceback (most recent call last)",
      "\u001b[0;32m<ipython-input-1-fa48a73e82b0>\u001b[0m in \u001b[0;36m<module>\u001b[0;34m\u001b[0m\n\u001b[0;32m----> 1\u001b[0;31m \u001b[0msns\u001b[0m\u001b[0;34m.\u001b[0m\u001b[0mrelplot\u001b[0m\u001b[0;34m(\u001b[0m\u001b[0mdata\u001b[0m\u001b[0;34m=\u001b[0m\u001b[0mdf\u001b[0m\u001b[0;34m)\u001b[0m\u001b[0;34m\u001b[0m\u001b[0;34m\u001b[0m\u001b[0m\n\u001b[0m",
      "\u001b[0;31mNameError\u001b[0m: name 'sns' is not defined"
     ]
    }
   ],
   "source": [
    "sns.relplot(data=df)"
   ]
  },
  {
   "cell_type": "code",
   "execution_count": null,
   "id": "321d2d07",
   "metadata": {},
   "outputs": [],
   "source": []
  }
 ],
 "metadata": {
  "kernelspec": {
   "display_name": "Python 3",
   "language": "python",
   "name": "python3"
  },
  "language_info": {
   "codemirror_mode": {
    "name": "ipython",
    "version": 3
   },
   "file_extension": ".py",
   "mimetype": "text/x-python",
   "name": "python",
   "nbconvert_exporter": "python",
   "pygments_lexer": "ipython3",
   "version": "3.7.10"
  }
 },
 "nbformat": 4,
 "nbformat_minor": 5
}
