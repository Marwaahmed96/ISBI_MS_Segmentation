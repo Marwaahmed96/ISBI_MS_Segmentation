{
 "cells": [
  {
   "cell_type": "code",
   "execution_count": 1,
   "id": "6cf9b9dd",
   "metadata": {},
   "outputs": [],
   "source": [
    "import os\n",
    "import matplotlib.pyplot as plt\n",
    "import ipywidgets as widgets\n",
    "from ipywidgets import interact, interactive\n",
    "\n",
    "import shutil\n",
    "from pathlib import Path\n",
    "import glob\n",
    "\n",
    "import seaborn as sns\n",
    "import pandas as pd\n",
    "from metric import*\n",
    "from config import *\n",
    "from images import *\n",
    "from reconstruct import *\n",
    "from u_net_model import *"
   ]
  },
  {
   "cell_type": "markdown",
   "id": "91aae94a",
   "metadata": {},
   "source": [
    "# Reconstruct\n",
    "## load trained model"
   ]
  },
  {
   "cell_type": "code",
   "execution_count": 2,
   "id": "cce9b397",
   "metadata": {},
   "outputs": [
    {
     "name": "stdout",
     "output_type": "stream",
     "text": [
      "input shape (None, 16, 16, 16, 4)\n"
     ]
    }
   ],
   "source": [
    "model=U_Net_Model(options['input_shape'],\n",
    "                      options['out_channels'],\n",
    "                      depth = options['depth'], \n",
    "                      initial_learning_rate = options['initial_learning_rate'],\n",
    "                      deconvolution = options['deconvolution'])\n",
    "\n",
    "model.build((None ,*options['input_shape']))\n",
    "model.load_weights('./model_weights.hdf5')"
   ]
  },
  {
   "cell_type": "markdown",
   "id": "d7364eb9",
   "metadata": {},
   "source": [
    "## order test data"
   ]
  },
  {
   "cell_type": "code",
   "execution_count": 3,
   "id": "e1482f64",
   "metadata": {},
   "outputs": [],
   "source": [
    "path=options['test_data_path']\n",
    "new_path=options['test_folder']+\"{}_{}/\"\n",
    "\n",
    "patient_data=path+\"{}/preprocessed/{}_{}_{}_pp.nii\"\n",
    "\n",
    "modalities=options['modalities']\n",
    "\n",
    "test_csv_path=options[\"test_csv_path\"]"
   ]
  },
  {
   "cell_type": "code",
   "execution_count": 8,
   "id": "19934956",
   "metadata": {},
   "outputs": [],
   "source": [
    "_, dirs,_=next(os.walk(path))\n",
    "for dir_ in dirs:\n",
    "    flair_files = glob.glob(patient_data.format(dir_,dir_,'*',modalities[0]))\n",
    "    for file in flair_files:\n",
    "        study=file.split('/')[-1].split('_')[1]\n",
    "\n",
    "        newpath = new_path.format(dir_,study)\n",
    "        Path(newpath).mkdir(parents=True, exist_ok=True)\n",
    "        # copy data and masks in new folders\n",
    "        for m in modalities:\n",
    "            data=patient_data.format(dir_,dir_,study,m)\n",
    "            shutil.copy(data, newpath+f\"{m}.nii\")        "
   ]
  },
  {
   "cell_type": "code",
   "execution_count": 9,
   "id": "8e11986d",
   "metadata": {},
   "outputs": [],
   "source": [
    "test_data=pd.DataFrame(columns=['root_path','patient_id','study',*modalities])\n",
    "test_data = test_data.astype({\"study\": str})\n",
    "root,dirs,_=next(os.walk(options['test_folder']))\n",
    "for dir_ in dirs:\n",
    "    patient_id=dir_.split('_')[0]\n",
    "    study=\"_\"+dir_.split('_')[1]\n",
    "    root_path=root+dir_+\"/\"\n",
    "    \n",
    "    modalities_names=[]\n",
    "    for modality in modalities:\n",
    "        modalities_names.append(modality+\".nii\")\n",
    "    df = pd.DataFrame([[root_path, patient_id,study,*modalities_names ]], columns=['root_path','patient_id','study',*modalities])\n",
    "    test_data=test_data.append(df)\n",
    "    \n",
    "test_data.reset_index(inplace=True)\n",
    "test_data.drop(columns=['index'],inplace=True)\n",
    "test_data.to_csv(test_csv_path, index=False)"
   ]
  },
  {
   "cell_type": "markdown",
   "id": "8d063d96",
   "metadata": {},
   "source": [
    "## reconstruct test data"
   ]
  },
  {
   "cell_type": "code",
   "execution_count": null,
   "id": "c05ab261",
   "metadata": {},
   "outputs": [],
   "source": [
    "fold=0\n",
    "\n",
    "test_df=pd.read_csv(options[\"test_csv_path\"])\n",
    "\n",
    "modalities= options['modalities']\n",
    "step_size= options['step_size']\n",
    "patch_size=options['patch_size']\n",
    "dir_name = options['test_reconstruct_path']\n",
    "os.makedirs(os.path.dirname(dir_name), exist_ok=True)\n",
    "\n",
    "\n",
    "for i,row in test_df.iterrows():\n",
    "    patient_id,study,root_path = row['patient_id'],row['study'],row['root_path']\n",
    "    file_name = dir_name+ patient_id+study+\"_predict\"\n",
    "    # load all modalities\n",
    "    images = []\n",
    "    for modality in modalities:\n",
    "        img_path = root_path+modality+\".nii\"\n",
    "        img = load_img(img_path)\n",
    "\n",
    "        img = normalize_image(img,datatype=np.float32)\n",
    "        images.append(img)\n",
    "    images = np.moveaxis( np.stack(images),0,-1)\n",
    "    \n",
    "    predict_img(images,model, patch_size, step_size, file_name)\n",
    "    print('reconstruct',patient_id+\"_\"+study)"
   ]
  },
  {
   "cell_type": "code",
   "execution_count": null,
   "id": "0bfc953c",
   "metadata": {},
   "outputs": [],
   "source": []
  },
  {
   "cell_type": "code",
   "execution_count": null,
   "id": "bdf337c5",
   "metadata": {},
   "outputs": [],
   "source": []
  },
  {
   "cell_type": "markdown",
   "id": "cf4b9a10",
   "metadata": {},
   "source": [
    "# validation accuracy"
   ]
  },
  {
   "cell_type": "code",
   "execution_count": null,
   "id": "14d20e0d",
   "metadata": {},
   "outputs": [],
   "source": [
    "from sklearn.metrics import roc_curve, auc # roc curve tools\n",
    "ground_truth_labels = em_thresh_vol.ravel() # we want to make them into vectors\n",
    "score_value = 1-em_image_vol.ravel()/255.0 # we want to make them into vectors\n",
    "fpr, tpr, _ = roc_curve(ground_truth_labels,score_value)\n",
    "roc_auc = auc(fpr,tpr)"
   ]
  },
  {
   "cell_type": "code",
   "execution_count": 7,
   "id": "3fb976d7",
   "metadata": {},
   "outputs": [],
   "source": [
    "from sklearn.metrics import confusion_matrix"
   ]
  },
  {
   "cell_type": "code",
   "execution_count": 37,
   "id": "e4ce64e9",
   "metadata": {
    "scrolled": true
   },
   "outputs": [
    {
     "data": {
      "text/html": [
       "<div>\n",
       "<style scoped>\n",
       "    .dataframe tbody tr th:only-of-type {\n",
       "        vertical-align: middle;\n",
       "    }\n",
       "\n",
       "    .dataframe tbody tr th {\n",
       "        vertical-align: top;\n",
       "    }\n",
       "\n",
       "    .dataframe thead th {\n",
       "        text-align: right;\n",
       "    }\n",
       "</style>\n",
       "<table border=\"1\" class=\"dataframe\">\n",
       "  <thead>\n",
       "    <tr style=\"text-align: right;\">\n",
       "      <th></th>\n",
       "      <th>patient_id</th>\n",
       "      <th>study</th>\n",
       "      <th>dice_coefficient</th>\n",
       "      <th>tpr</th>\n",
       "    </tr>\n",
       "  </thead>\n",
       "  <tbody>\n",
       "    <tr>\n",
       "      <th>0</th>\n",
       "      <td>training01</td>\n",
       "      <td>_01</td>\n",
       "      <td>0.407864</td>\n",
       "      <td>0.262660</td>\n",
       "    </tr>\n",
       "    <tr>\n",
       "      <th>0</th>\n",
       "      <td>training01</td>\n",
       "      <td>_02</td>\n",
       "      <td>0.341790</td>\n",
       "      <td>0.213137</td>\n",
       "    </tr>\n",
       "    <tr>\n",
       "      <th>0</th>\n",
       "      <td>training01</td>\n",
       "      <td>_03</td>\n",
       "      <td>0.363168</td>\n",
       "      <td>0.225457</td>\n",
       "    </tr>\n",
       "    <tr>\n",
       "      <th>0</th>\n",
       "      <td>training01</td>\n",
       "      <td>_04</td>\n",
       "      <td>0.367765</td>\n",
       "      <td>0.229758</td>\n",
       "    </tr>\n",
       "    <tr>\n",
       "      <th>0</th>\n",
       "      <td>training02</td>\n",
       "      <td>_01</td>\n",
       "      <td>0.714906</td>\n",
       "      <td>0.569463</td>\n",
       "    </tr>\n",
       "    <tr>\n",
       "      <th>0</th>\n",
       "      <td>training02</td>\n",
       "      <td>_02</td>\n",
       "      <td>0.747589</td>\n",
       "      <td>0.624518</td>\n",
       "    </tr>\n",
       "    <tr>\n",
       "      <th>0</th>\n",
       "      <td>training02</td>\n",
       "      <td>_03</td>\n",
       "      <td>0.762445</td>\n",
       "      <td>0.635359</td>\n",
       "    </tr>\n",
       "    <tr>\n",
       "      <th>0</th>\n",
       "      <td>training02</td>\n",
       "      <td>_04</td>\n",
       "      <td>0.772853</td>\n",
       "      <td>0.645594</td>\n",
       "    </tr>\n",
       "    <tr>\n",
       "      <th>0</th>\n",
       "      <td>training03</td>\n",
       "      <td>_01</td>\n",
       "      <td>0.725417</td>\n",
       "      <td>0.664441</td>\n",
       "    </tr>\n",
       "    <tr>\n",
       "      <th>0</th>\n",
       "      <td>training03</td>\n",
       "      <td>_02</td>\n",
       "      <td>0.734951</td>\n",
       "      <td>0.730623</td>\n",
       "    </tr>\n",
       "    <tr>\n",
       "      <th>0</th>\n",
       "      <td>training03</td>\n",
       "      <td>_03</td>\n",
       "      <td>0.717901</td>\n",
       "      <td>0.730543</td>\n",
       "    </tr>\n",
       "    <tr>\n",
       "      <th>0</th>\n",
       "      <td>training03</td>\n",
       "      <td>_04</td>\n",
       "      <td>0.680688</td>\n",
       "      <td>0.653400</td>\n",
       "    </tr>\n",
       "    <tr>\n",
       "      <th>0</th>\n",
       "      <td>training03</td>\n",
       "      <td>_05</td>\n",
       "      <td>0.719276</td>\n",
       "      <td>0.677413</td>\n",
       "    </tr>\n",
       "    <tr>\n",
       "      <th>0</th>\n",
       "      <td>training04</td>\n",
       "      <td>_01</td>\n",
       "      <td>0.850189</td>\n",
       "      <td>0.881636</td>\n",
       "    </tr>\n",
       "    <tr>\n",
       "      <th>0</th>\n",
       "      <td>training04</td>\n",
       "      <td>_02</td>\n",
       "      <td>0.814016</td>\n",
       "      <td>0.825137</td>\n",
       "    </tr>\n",
       "    <tr>\n",
       "      <th>0</th>\n",
       "      <td>training04</td>\n",
       "      <td>_03</td>\n",
       "      <td>0.814646</td>\n",
       "      <td>0.918462</td>\n",
       "    </tr>\n",
       "    <tr>\n",
       "      <th>0</th>\n",
       "      <td>training04</td>\n",
       "      <td>_04</td>\n",
       "      <td>0.844025</td>\n",
       "      <td>0.882508</td>\n",
       "    </tr>\n",
       "    <tr>\n",
       "      <th>0</th>\n",
       "      <td>training05</td>\n",
       "      <td>_01</td>\n",
       "      <td>0.882581</td>\n",
       "      <td>0.893789</td>\n",
       "    </tr>\n",
       "    <tr>\n",
       "      <th>0</th>\n",
       "      <td>training05</td>\n",
       "      <td>_02</td>\n",
       "      <td>0.979788</td>\n",
       "      <td>0.968126</td>\n",
       "    </tr>\n",
       "    <tr>\n",
       "      <th>0</th>\n",
       "      <td>training05</td>\n",
       "      <td>_03</td>\n",
       "      <td>0.882205</td>\n",
       "      <td>0.930396</td>\n",
       "    </tr>\n",
       "    <tr>\n",
       "      <th>0</th>\n",
       "      <td>training05</td>\n",
       "      <td>_04</td>\n",
       "      <td>0.807998</td>\n",
       "      <td>0.903491</td>\n",
       "    </tr>\n",
       "  </tbody>\n",
       "</table>\n",
       "</div>"
      ],
      "text/plain": [
       "   patient_id study  dice_coefficient       tpr\n",
       "0  training01   _01          0.407864  0.262660\n",
       "0  training01   _02          0.341790  0.213137\n",
       "0  training01   _03          0.363168  0.225457\n",
       "0  training01   _04          0.367765  0.229758\n",
       "0  training02   _01          0.714906  0.569463\n",
       "0  training02   _02          0.747589  0.624518\n",
       "0  training02   _03          0.762445  0.635359\n",
       "0  training02   _04          0.772853  0.645594\n",
       "0  training03   _01          0.725417  0.664441\n",
       "0  training03   _02          0.734951  0.730623\n",
       "0  training03   _03          0.717901  0.730543\n",
       "0  training03   _04          0.680688  0.653400\n",
       "0  training03   _05          0.719276  0.677413\n",
       "0  training04   _01          0.850189  0.881636\n",
       "0  training04   _02          0.814016  0.825137\n",
       "0  training04   _03          0.814646  0.918462\n",
       "0  training04   _04          0.844025  0.882508\n",
       "0  training05   _01          0.882581  0.893789\n",
       "0  training05   _02          0.979788  0.968126\n",
       "0  training05   _03          0.882205  0.930396\n",
       "0  training05   _04          0.807998  0.903491"
      ]
     },
     "execution_count": 37,
     "metadata": {},
     "output_type": "execute_result"
    }
   ],
   "source": [
    "lost=[]\n",
    "accuracy_df=pd.DataFrame(columns=['patient_id','study','dice_coefficient','tpr'])\n",
    "\n",
    "fold=0\n",
    "df=pd.read_csv(options[\"train_csv_path\"])\n",
    "train_df = df.loc[df['fold'] != fold].reset_index(drop=True)\n",
    "val_df = df.loc[df['fold'] == fold].reset_index(drop=True)\n",
    "file_name='{}{}.nii.gz'\n",
    "\n",
    "for i,row in df.iterrows():\n",
    "    \n",
    "    patient_id,study,root_path = row['patient_id'],row['study'],row['root_path']\n",
    "    # load target\n",
    "    mask_path=root_path+\"mask1.nii\" \n",
    "    target = load_img(mask_path, np.float32)\n",
    "    \n",
    "    predict_path=options['train_reconstruct_path']+file_name.format(patient_id,study)\n",
    "    if os.path.isfile(predict_path):\n",
    "        predict=load_img(predict_path, np.float32)\n",
    "        \n",
    "        target=np.expand_dims(np.expand_dims(target,axis=0),-1)\n",
    "        predict=np.expand_dims(np.expand_dims(predict,axis=0),axis=-1)\n",
    "        dice=dice_coefficient(target, predict)\n",
    "        \n",
    "        #cm = confusion_matrix(target, predict) # careful with the order of arguments!\n",
    "        #tn, fp, fn, tp = cm.ravel()\n",
    "        #TPR_value = tp/(tp+fn)\n",
    "        #mse=tf.keras.metrics.MeanSquaredError()\n",
    "        #pre=tf.keras.metrics.Precision()\n",
    "        #recall=tf.keras.metrics.Recall()\n",
    "        tp=tf.keras.metrics.TruePositives()\n",
    "        fn=tf.keras.metrics.FalseNegatives()\n",
    "        \n",
    "        #mse.update_state(target,predict)\n",
    "        #pre.update_state(target,predict)\n",
    "        #recall.update_state(target,predict)\n",
    "        tp.update_state(target,predict)\n",
    "        fn.update_state(target, predict)\n",
    "        \n",
    "        #r1=mse.result().numpy()\n",
    "        #r2=pre.result().numpy()\n",
    "        #r3=recall.result().numpy()\n",
    "        tp_value=tp.result().numpy()\n",
    "        fn_value=fn.result().numpy()\n",
    "        tpr=tp_value/(tp_value+fn_value)\n",
    "        #fnr=r5/(r4+r5)\n",
    "        #print(r1,r2,r3,r4,r5,tpr,fnr)\n",
    "        #tp.reset_state()\n",
    "        #fn.reset_state()\n",
    "        #tpr=TPR(np.expand_dims(np.expand_dims(target,axis=0),-1),np.expand_dims(np.expand_dims(predict,axis=0),axis=-1))\n",
    "        \n",
    "        df = pd.DataFrame([[patient_id,study,dice.numpy(), tpr ]], columns=['patient_id','study','dice_coefficient','tpr'])\n",
    "        accuracy_df=accuracy_df.append(df)\n",
    "    else:\n",
    "        lost.append(file_name.format(patient_id,study))\n",
    "        \n",
    "        \n",
    "accuracy_df"
   ]
  },
  {
   "cell_type": "code",
   "execution_count": 16,
   "id": "f7b4f47d",
   "metadata": {},
   "outputs": [],
   "source": [
    "tf.keras.metrics.MeanSquaredError?"
   ]
  },
  {
   "cell_type": "code",
   "execution_count": 33,
   "id": "03067674",
   "metadata": {},
   "outputs": [
    {
     "data": {
      "text/plain": [
       "<AxesSubplot:>"
      ]
     },
     "execution_count": 33,
     "metadata": {},
     "output_type": "execute_result"
    },
    {
     "data": {
      "image/png": "[encoded data removed]",
      "text/plain": [
       "<Figure size 432x288 with 1 Axes>"
      ]
     },
     "metadata": {
      "needs_background": "light"
     },
     "output_type": "display_data"
    }
   ],
   "source": [
    "accuracy_df.boxplot(column=['dice_coefficient','tpr'])"
   ]
  },
  {
   "cell_type": "code",
   "execution_count": 34,
   "id": "cd962a39",
   "metadata": {},
   "outputs": [],
   "source": [
    "val_df=accuracy_df.loc[:,['dice_coefficient','tpr']]"
   ]
  },
  {
   "cell_type": "code",
   "execution_count": 36,
   "id": "187a0b19",
   "metadata": {},
   "outputs": [
    {
     "data": {
      "image/png": "[encoded data removed]",
      "text/plain": [
       "<Figure size 288x432 with 1 Axes>"
      ]
     },
     "metadata": {
      "needs_background": "light"
     },
     "output_type": "display_data"
    }
   ],
   "source": [
    "colors = ['#35FCFF', '#FF355A']\n",
    "palette = sns.color_palette(colors, 2)\n",
    "\n",
    "fig, ax = plt.subplots(figsize=(4, 6));\n",
    "sns.barplot(x=val_df.mean().index, y=val_df.mean(), palette=palette, ax=ax);\n",
    "ax.set_xticklabels(val_df.columns, fontsize=14, rotation=15);\n",
    "ax.set_title(\"Dice Coefficients from Validation\", fontsize=20)\n",
    "\n",
    "for idx, p in enumerate(ax.patches):\n",
    "        percentage = '{:.1f}%'.format(100 * val_df.mean().values[idx])\n",
    "        x = p.get_x() + p.get_width() / 2 - 0.15\n",
    "        y = p.get_y() + p.get_height()\n",
    "        ax.annotate(percentage, (x, y), fontsize=15, fontweight=\"bold\")\n",
    "\n",
    "fig.savefig(\"result1.png\", format=\"png\",  pad_inches=0.2, transparent=False, bbox_inches='tight')\n",
    "fig.savefig(\"result1.svg\", format=\"svg\",  pad_inches=0.2, transparent=False, bbox_inches='tight')"
   ]
  },
  {
   "cell_type": "code",
   "execution_count": null,
   "id": "648ef21c",
   "metadata": {},
   "outputs": [],
   "source": []
  },
  {
   "cell_type": "code",
   "execution_count": null,
   "id": "85e852fb",
   "metadata": {},
   "outputs": [],
   "source": []
  },
  {
   "cell_type": "code",
   "execution_count": null,
   "id": "f7d125a7",
   "metadata": {},
   "outputs": [],
   "source": []
  },
  {
   "cell_type": "code",
   "execution_count": null,
   "id": "bf38cfc7",
   "metadata": {},
   "outputs": [],
   "source": []
  },
  {
   "cell_type": "markdown",
   "id": "63be45b3",
   "metadata": {},
   "source": [
    "## reconstruct train data"
   ]
  },
  {
   "cell_type": "code",
   "execution_count": 8,
   "id": "9215a318",
   "metadata": {},
   "outputs": [
    {
     "name": "stderr",
     "output_type": "stream",
     "text": [
      "Exception ignored in: <function ConcreteFunctionGarbageCollector.__del__ at 0x7f239d139f80>\n",
      "Traceback (most recent call last):\n",
      "  File \"/home/marwa/Medical_Analysis/Code/work_start/lib/python3.7/site-packages/tensorflow/python/eager/function.py\", line 3940, in __del__\n",
      "    def __del__(self):\n",
      "KeyboardInterrupt: \n"
     ]
    },
    {
     "ename": "KeyboardInterrupt",
     "evalue": "",
     "output_type": "error",
     "traceback": [
      "\u001b[0;31m---------------------------------------------------------------------------\u001b[0m",
      "\u001b[0;31mKeyboardInterrupt\u001b[0m                         Traceback (most recent call last)",
      "\u001b[0;32m<ipython-input-8-ac8f7330263e>\u001b[0m in \u001b[0;36m<module>\u001b[0;34m\u001b[0m\n\u001b[1;32m     59\u001b[0m                 \u001b[0mpredict\u001b[0m\u001b[0;34m.\u001b[0m\u001b[0madd\u001b[0m\u001b[0;34m(\u001b[0m\u001b[0mnp\u001b[0m\u001b[0;34m.\u001b[0m\u001b[0msqueeze\u001b[0m\u001b[0;34m(\u001b[0m\u001b[0mnp\u001b[0m\u001b[0;34m.\u001b[0m\u001b[0msqueeze\u001b[0m\u001b[0;34m(\u001b[0m\u001b[0mpredict_img\u001b[0m\u001b[0;34m,\u001b[0m \u001b[0maxis\u001b[0m\u001b[0;34m=\u001b[0m\u001b[0;36m0\u001b[0m\u001b[0;34m)\u001b[0m\u001b[0;34m,\u001b[0m\u001b[0maxis\u001b[0m\u001b[0;34m=\u001b[0m\u001b[0;34m-\u001b[0m\u001b[0;36m1\u001b[0m\u001b[0;34m)\u001b[0m\u001b[0;34m,\u001b[0m \u001b[0mpatch_start\u001b[0m\u001b[0;34m)\u001b[0m\u001b[0;34m\u001b[0m\u001b[0;34m\u001b[0m\u001b[0m\n\u001b[1;32m     60\u001b[0m                 \u001b[0mimage_real\u001b[0m\u001b[0;34m.\u001b[0m\u001b[0madd\u001b[0m\u001b[0;34m(\u001b[0m\u001b[0mpatch_img\u001b[0m\u001b[0;34m[\u001b[0m\u001b[0;34m:\u001b[0m\u001b[0;34m,\u001b[0m\u001b[0;34m:\u001b[0m\u001b[0;34m,\u001b[0m\u001b[0;34m:\u001b[0m\u001b[0;34m,\u001b[0m\u001b[0;36m0\u001b[0m\u001b[0;34m]\u001b[0m\u001b[0;34m,\u001b[0m \u001b[0mpatch_start\u001b[0m\u001b[0;34m)\u001b[0m\u001b[0;34m\u001b[0m\u001b[0;34m\u001b[0m\u001b[0m\n\u001b[0;32m---> 61\u001b[0;31m                 \u001b[0mtruth\u001b[0m\u001b[0;34m.\u001b[0m\u001b[0madd\u001b[0m\u001b[0;34m(\u001b[0m\u001b[0mpatch_mask\u001b[0m\u001b[0;34m,\u001b[0m \u001b[0mpatch_start\u001b[0m\u001b[0;34m)\u001b[0m\u001b[0;34m\u001b[0m\u001b[0;34m\u001b[0m\u001b[0m\n\u001b[0m\u001b[1;32m     62\u001b[0m \u001b[0;34m\u001b[0m\u001b[0m\n\u001b[1;32m     63\u001b[0m                 \u001b[0mz\u001b[0m\u001b[0;34m+=\u001b[0m\u001b[0mstep_size\u001b[0m\u001b[0;34m[\u001b[0m\u001b[0;36m2\u001b[0m\u001b[0;34m]\u001b[0m\u001b[0;34m\u001b[0m\u001b[0;34m\u001b[0m\u001b[0m\n",
      "\u001b[0;32m/media/marwa/F2F25460F2542ADD/MedicalAnalysis/Code/ISBI_MS_Segmentation/reconstruct.py\u001b[0m in \u001b[0;36madd\u001b[0;34m(self, patch, index)\u001b[0m\n\u001b[1;32m     67\u001b[0m         \u001b[0;31m# store patch data in self.data\u001b[0m\u001b[0;34m\u001b[0m\u001b[0;34m\u001b[0m\u001b[0;34m\u001b[0m\u001b[0m\n\u001b[1;32m     68\u001b[0m         \u001b[0mnew_data_index\u001b[0m \u001b[0;34m=\u001b[0m \u001b[0mnp\u001b[0m\u001b[0;34m.\u001b[0m\u001b[0mlogical_and\u001b[0m\u001b[0;34m(\u001b[0m\u001b[0mpatch_index\u001b[0m\u001b[0;34m,\u001b[0m \u001b[0mnp\u001b[0m\u001b[0;34m.\u001b[0m\u001b[0mlogical_not\u001b[0m\u001b[0;34m(\u001b[0m\u001b[0mself\u001b[0m\u001b[0;34m.\u001b[0m\u001b[0mcount\u001b[0m \u001b[0;34m>\u001b[0m \u001b[0;36m0\u001b[0m\u001b[0;34m)\u001b[0m\u001b[0;34m)\u001b[0m\u001b[0;34m\u001b[0m\u001b[0;34m\u001b[0m\u001b[0m\n\u001b[0;32m---> 69\u001b[0;31m         \u001b[0mself\u001b[0m\u001b[0;34m.\u001b[0m\u001b[0mdata\u001b[0m\u001b[0;34m[\u001b[0m\u001b[0mnew_data_index\u001b[0m\u001b[0;34m]\u001b[0m \u001b[0;34m=\u001b[0m \u001b[0mpatch_data\u001b[0m\u001b[0;34m[\u001b[0m\u001b[0mnew_data_index\u001b[0m\u001b[0;34m]\u001b[0m\u001b[0;34m\u001b[0m\u001b[0;34m\u001b[0m\u001b[0m\n\u001b[0m\u001b[1;32m     70\u001b[0m \u001b[0;34m\u001b[0m\u001b[0m\n\u001b[1;32m     71\u001b[0m         \u001b[0;31m# average overlapped region\u001b[0m\u001b[0;34m\u001b[0m\u001b[0;34m\u001b[0m\u001b[0;34m\u001b[0m\u001b[0m\n",
      "\u001b[0;31mKeyboardInterrupt\u001b[0m: "
     ]
    }
   ],
   "source": [
    "fold=0\n",
    "\n",
    "df=pd.read_csv(options[\"train_csv_path\"])\n",
    "train_df = df.loc[df['fold'] != fold].reset_index(drop=True)\n",
    "val_df = df.loc[df['fold'] == fold].reset_index(drop=True)\n",
    "\n",
    "modalities= options['modalities']\n",
    "step_size= options['step_size']\n",
    "patch_size=options['patch_size']\n",
    "dir_name = options['reconstruct_path']\n",
    "os.makedirs(os.path.dirname(dir_name), exist_ok=True)\n",
    "\n",
    "\n",
    "for i,row in val_df.iterrows():\n",
    "    patient_id,study,root_path = row['patient_id'],row['study'],row['root_path']\n",
    "    # load all modalities\n",
    "    images = []\n",
    "    for modality in modalities:\n",
    "        img_path = root_path+modality+\".nii\"\n",
    "        img = load_img(img_path)\n",
    "\n",
    "        img = normalize_image(img,datatype=np.float32)\n",
    "        #padding=[(0,o_s%(p_s+s_s)) for o_s, p_s, s_s in zip(orig_shape, patch_size, step_size)]\n",
    "        \n",
    "        #img=np.pad(img, padding, 'constant')\n",
    "        #print('padding',padding,img.shape)\n",
    "        #print(img.shape)\n",
    "        images.append(img)\n",
    "    \n",
    "    mask_path=root_path+\"mask1.nii\"\n",
    "    img = np.moveaxis( np.stack(images),0,-1)\n",
    "    \n",
    "    mask = load_img(mask_path)\n",
    "    \n",
    "    #mask=np.pad(mask, padding, 'constant')\n",
    "    shape=mask.shape\n",
    "\n",
    "    image_real  = Reconstruct(i, shape, patch_size, False)\n",
    "    predict  = Reconstruct(i, shape, patch_size, False)\n",
    "    truth = Reconstruct(i, shape, patch_size, False)\n",
    "    x=0\n",
    "    while(x+patch_size[0] <= shape[0]):\n",
    "        y=0\n",
    "        while(y+patch_size[1]<= shape[1]):\n",
    "            z=0\n",
    "            while(z+patch_size[2] <= shape[2]):\n",
    "                #print(z, (shape[2]-(shape[2]%patch_size[2])))\n",
    "                patch_start=(x,y,z)\n",
    "                patch_end=tuple([p+s for p,s in zip(patch_start,patch_size)])\n",
    "                #print('start',patch_start,'end',patch_end)\n",
    "                patch_img=img[patch_start[0]:patch_end[0], patch_start[1]:patch_end[1], patch_start[2]:patch_end[2]]\n",
    "                \n",
    "                patch_mask=mask[patch_start[0]:patch_end[0], patch_start[1]:patch_end[1], patch_start[2]:patch_end[2]]\n",
    "                #print('start',patch_start,'end',patch_end,'patch',patch_img.shape)\n",
    "                #print(patch_img.shape,patch_mask.shape,result.shape,patch_index_row)\n",
    "                \n",
    "                predict_img=model.predict(np.expand_dims(patch_img,axis=0))               \n",
    "                \n",
    "                predict.add(np.squeeze(np.squeeze(predict_img, axis=0),axis=-1), patch_start)             \n",
    "                image_real.add(patch_img[:,:,:,0], patch_start)\n",
    "                truth.add(patch_mask, patch_start)\n",
    "        \n",
    "                z+=step_size[2]\n",
    "                \n",
    "            y+=step_size[1]\n",
    "        x+=step_size[0]\n",
    "    \n",
    "    file_name = dir_name+ patient_id+study\n",
    "    image_real.store(file_name + \"_image_real\")\n",
    "    truth.store(file_name + \"_target\")\n",
    "    print('reconstruct',patient_id+\"_\"+study)"
   ]
  },
  {
   "cell_type": "code",
   "execution_count": 11,
   "id": "0c180979",
   "metadata": {},
   "outputs": [
    {
     "data": {
      "text/plain": [
       "'/media/marwa/F2F25460F2542ADD/MedicalAnalysis/DataSets/ISBI/train/training01_01/'"
      ]
     },
     "execution_count": 11,
     "metadata": {},
     "output_type": "execute_result"
    }
   ],
   "source": [
    "val_df.root_path[0]"
   ]
  },
  {
   "cell_type": "code",
   "execution_count": 32,
   "id": "24fcf1cb",
   "metadata": {},
   "outputs": [
    {
     "data": {
      "application/vnd.jupyter.widget-view+json": {
       "model_id": "c5b5359a538541da82dac9d3f2e909c0",
       "version_major": 2,
       "version_minor": 0
      },
      "text/plain": [
       "interactive(children=(IntSlider(value=90, description='id', max=180), Output()), _dom_classes=('widget-interac…"
      ]
     },
     "metadata": {},
     "output_type": "display_data"
    }
   ],
   "source": [
    "n='03_02'\n",
    "data_path=options['train_folder']\n",
    "pp1=data_path+'training'+n+'/mask1.nii'\n",
    "pp2=data_path+'training'+n+'/mask2.nii'\n",
    "data_p='/media/marwa/F2F25460F2542ADD/MedicalAnalysis/DataSets/ISBI/reconstruct/'\n",
    "p=data_p+'training05_01.nii.gz'\n",
    "target1=load_img(pp1,np.float32)\n",
    "target2=load_img(pp2,np.float32)\n",
    "predict=load_img(p,np.float32)\n",
    "show3D_images([target1,target2, predict])"
   ]
  },
  {
   "cell_type": "code",
   "execution_count": 31,
   "id": "f2a0519a",
   "metadata": {},
   "outputs": [
    {
     "data": {
      "text/plain": [
       "<tf.Tensor: shape=(), dtype=float32, numpy=0.85302025>"
      ]
     },
     "execution_count": 31,
     "metadata": {},
     "output_type": "execute_result"
    }
   ],
   "source": [
    "dice_coefficient(np.expand_dims(np.expand_dims(target1,axis=0),-1),np.expand_dims(np.expand_dims(predict,axis=0),axis=-1))"
   ]
  },
  {
   "cell_type": "code",
   "execution_count": 27,
   "id": "6fabd900",
   "metadata": {},
   "outputs": [
    {
     "ename": "ValueError",
     "evalue": "The truth value of an array with more than one element is ambiguous. Use a.any() or a.all()",
     "output_type": "error",
     "traceback": [
      "\u001b[0;31m---------------------------------------------------------------------------\u001b[0m",
      "\u001b[0;31mValueError\u001b[0m                                Traceback (most recent call last)",
      "\u001b[0;32m<ipython-input-27-d98cce89fe68>\u001b[0m in \u001b[0;36m<module>\u001b[0;34m\u001b[0m\n\u001b[1;32m      1\u001b[0m \u001b[0;32mimport\u001b[0m \u001b[0mtensorflow\u001b[0m \u001b[0;32mas\u001b[0m \u001b[0mtf\u001b[0m\u001b[0;34m\u001b[0m\u001b[0;34m\u001b[0m\u001b[0m\n\u001b[0;32m----> 2\u001b[0;31m \u001b[0mtf\u001b[0m\u001b[0;34m.\u001b[0m\u001b[0mkeras\u001b[0m\u001b[0;34m.\u001b[0m\u001b[0mmetrics\u001b[0m\u001b[0;34m.\u001b[0m\u001b[0mMeanSquaredError\u001b[0m\u001b[0;34m(\u001b[0m\u001b[0mtarget\u001b[0m\u001b[0;34m,\u001b[0m\u001b[0mpredict\u001b[0m\u001b[0;34m)\u001b[0m\u001b[0;34m\u001b[0m\u001b[0;34m\u001b[0m\u001b[0m\n\u001b[0m",
      "\u001b[0;32m~/Medical_Analysis/Code/work_start/lib/python3.7/site-packages/tensorflow/python/keras/metrics.py\u001b[0m in \u001b[0;36m__init__\u001b[0;34m(self, name, dtype)\u001b[0m\n\u001b[1;32m   2408\u001b[0m   \u001b[0;32mdef\u001b[0m \u001b[0m__init__\u001b[0m\u001b[0;34m(\u001b[0m\u001b[0mself\u001b[0m\u001b[0;34m,\u001b[0m \u001b[0mname\u001b[0m\u001b[0;34m=\u001b[0m\u001b[0;34m'mean_squared_error'\u001b[0m\u001b[0;34m,\u001b[0m \u001b[0mdtype\u001b[0m\u001b[0;34m=\u001b[0m\u001b[0;32mNone\u001b[0m\u001b[0;34m)\u001b[0m\u001b[0;34m:\u001b[0m\u001b[0;34m\u001b[0m\u001b[0;34m\u001b[0m\u001b[0m\n\u001b[1;32m   2409\u001b[0m     super(MeanSquaredError, self).__init__(\n\u001b[0;32m-> 2410\u001b[0;31m         mean_squared_error, name, dtype=dtype)\n\u001b[0m\u001b[1;32m   2411\u001b[0m \u001b[0;34m\u001b[0m\u001b[0m\n\u001b[1;32m   2412\u001b[0m \u001b[0;34m\u001b[0m\u001b[0m\n",
      "\u001b[0;32m~/Medical_Analysis/Code/work_start/lib/python3.7/site-packages/tensorflow/python/keras/metrics.py\u001b[0m in \u001b[0;36m__init__\u001b[0;34m(self, fn, name, dtype, **kwargs)\u001b[0m\n\u001b[1;32m    582\u001b[0m \u001b[0;34m\u001b[0m\u001b[0m\n\u001b[1;32m    583\u001b[0m   \u001b[0;32mdef\u001b[0m \u001b[0m__init__\u001b[0m\u001b[0;34m(\u001b[0m\u001b[0mself\u001b[0m\u001b[0;34m,\u001b[0m \u001b[0mfn\u001b[0m\u001b[0;34m,\u001b[0m \u001b[0mname\u001b[0m\u001b[0;34m=\u001b[0m\u001b[0;32mNone\u001b[0m\u001b[0;34m,\u001b[0m \u001b[0mdtype\u001b[0m\u001b[0;34m=\u001b[0m\u001b[0;32mNone\u001b[0m\u001b[0;34m,\u001b[0m \u001b[0;34m**\u001b[0m\u001b[0mkwargs\u001b[0m\u001b[0;34m)\u001b[0m\u001b[0;34m:\u001b[0m\u001b[0;34m\u001b[0m\u001b[0;34m\u001b[0m\u001b[0m\n\u001b[0;32m--> 584\u001b[0;31m     \u001b[0msuper\u001b[0m\u001b[0;34m(\u001b[0m\u001b[0mMeanMetricWrapper\u001b[0m\u001b[0;34m,\u001b[0m \u001b[0mself\u001b[0m\u001b[0;34m)\u001b[0m\u001b[0;34m.\u001b[0m\u001b[0m__init__\u001b[0m\u001b[0;34m(\u001b[0m\u001b[0mname\u001b[0m\u001b[0;34m=\u001b[0m\u001b[0mname\u001b[0m\u001b[0;34m,\u001b[0m \u001b[0mdtype\u001b[0m\u001b[0;34m=\u001b[0m\u001b[0mdtype\u001b[0m\u001b[0;34m)\u001b[0m\u001b[0;34m\u001b[0m\u001b[0;34m\u001b[0m\u001b[0m\n\u001b[0m\u001b[1;32m    585\u001b[0m     \u001b[0mself\u001b[0m\u001b[0;34m.\u001b[0m\u001b[0m_fn\u001b[0m \u001b[0;34m=\u001b[0m \u001b[0mfn\u001b[0m\u001b[0;34m\u001b[0m\u001b[0;34m\u001b[0m\u001b[0m\n\u001b[1;32m    586\u001b[0m     \u001b[0mself\u001b[0m\u001b[0;34m.\u001b[0m\u001b[0m_fn_kwargs\u001b[0m \u001b[0;34m=\u001b[0m \u001b[0mkwargs\u001b[0m\u001b[0;34m\u001b[0m\u001b[0;34m\u001b[0m\u001b[0m\n",
      "\u001b[0;32m~/Medical_Analysis/Code/work_start/lib/python3.7/site-packages/tensorflow/python/keras/metrics.py\u001b[0m in \u001b[0;36m__init__\u001b[0;34m(self, name, dtype)\u001b[0m\n\u001b[1;32m    487\u001b[0m   \u001b[0;32mdef\u001b[0m \u001b[0m__init__\u001b[0m\u001b[0;34m(\u001b[0m\u001b[0mself\u001b[0m\u001b[0;34m,\u001b[0m \u001b[0mname\u001b[0m\u001b[0;34m=\u001b[0m\u001b[0;34m'mean'\u001b[0m\u001b[0;34m,\u001b[0m \u001b[0mdtype\u001b[0m\u001b[0;34m=\u001b[0m\u001b[0;32mNone\u001b[0m\u001b[0;34m)\u001b[0m\u001b[0;34m:\u001b[0m\u001b[0;34m\u001b[0m\u001b[0;34m\u001b[0m\u001b[0m\n\u001b[1;32m    488\u001b[0m     super(Mean, self).__init__(\n\u001b[0;32m--> 489\u001b[0;31m         reduction=metrics_utils.Reduction.WEIGHTED_MEAN, name=name, dtype=dtype)\n\u001b[0m\u001b[1;32m    490\u001b[0m \u001b[0;34m\u001b[0m\u001b[0m\n\u001b[1;32m    491\u001b[0m \u001b[0;34m\u001b[0m\u001b[0m\n",
      "\u001b[0;32m~/Medical_Analysis/Code/work_start/lib/python3.7/site-packages/tensorflow/python/keras/metrics.py\u001b[0m in \u001b[0;36m__init__\u001b[0;34m(self, reduction, name, dtype)\u001b[0m\n\u001b[1;32m    331\u001b[0m \u001b[0;34m\u001b[0m\u001b[0m\n\u001b[1;32m    332\u001b[0m   \u001b[0;32mdef\u001b[0m \u001b[0m__init__\u001b[0m\u001b[0;34m(\u001b[0m\u001b[0mself\u001b[0m\u001b[0;34m,\u001b[0m \u001b[0mreduction\u001b[0m\u001b[0;34m,\u001b[0m \u001b[0mname\u001b[0m\u001b[0;34m,\u001b[0m \u001b[0mdtype\u001b[0m\u001b[0;34m=\u001b[0m\u001b[0;32mNone\u001b[0m\u001b[0;34m)\u001b[0m\u001b[0;34m:\u001b[0m\u001b[0;34m\u001b[0m\u001b[0;34m\u001b[0m\u001b[0m\n\u001b[0;32m--> 333\u001b[0;31m     \u001b[0msuper\u001b[0m\u001b[0;34m(\u001b[0m\u001b[0mReduce\u001b[0m\u001b[0;34m,\u001b[0m \u001b[0mself\u001b[0m\u001b[0;34m)\u001b[0m\u001b[0;34m.\u001b[0m\u001b[0m__init__\u001b[0m\u001b[0;34m(\u001b[0m\u001b[0mname\u001b[0m\u001b[0;34m=\u001b[0m\u001b[0mname\u001b[0m\u001b[0;34m,\u001b[0m \u001b[0mdtype\u001b[0m\u001b[0;34m=\u001b[0m\u001b[0mdtype\u001b[0m\u001b[0;34m)\u001b[0m\u001b[0;34m\u001b[0m\u001b[0;34m\u001b[0m\u001b[0m\n\u001b[0m\u001b[1;32m    334\u001b[0m     \u001b[0mself\u001b[0m\u001b[0;34m.\u001b[0m\u001b[0mreduction\u001b[0m \u001b[0;34m=\u001b[0m \u001b[0mreduction\u001b[0m\u001b[0;34m\u001b[0m\u001b[0;34m\u001b[0m\u001b[0m\n\u001b[1;32m    335\u001b[0m     self.total = self.add_weight(\n",
      "\u001b[0;32m~/Medical_Analysis/Code/work_start/lib/python3.7/site-packages/tensorflow/python/keras/metrics.py\u001b[0m in \u001b[0;36m__init__\u001b[0;34m(self, name, dtype, **kwargs)\u001b[0m\n\u001b[1;32m    153\u001b[0m \u001b[0;34m\u001b[0m\u001b[0m\n\u001b[1;32m    154\u001b[0m   \u001b[0;32mdef\u001b[0m \u001b[0m__init__\u001b[0m\u001b[0;34m(\u001b[0m\u001b[0mself\u001b[0m\u001b[0;34m,\u001b[0m \u001b[0mname\u001b[0m\u001b[0;34m=\u001b[0m\u001b[0;32mNone\u001b[0m\u001b[0;34m,\u001b[0m \u001b[0mdtype\u001b[0m\u001b[0;34m=\u001b[0m\u001b[0;32mNone\u001b[0m\u001b[0;34m,\u001b[0m \u001b[0;34m**\u001b[0m\u001b[0mkwargs\u001b[0m\u001b[0;34m)\u001b[0m\u001b[0;34m:\u001b[0m\u001b[0;34m\u001b[0m\u001b[0;34m\u001b[0m\u001b[0m\n\u001b[0;32m--> 155\u001b[0;31m     \u001b[0msuper\u001b[0m\u001b[0;34m(\u001b[0m\u001b[0mMetric\u001b[0m\u001b[0;34m,\u001b[0m \u001b[0mself\u001b[0m\u001b[0;34m)\u001b[0m\u001b[0;34m.\u001b[0m\u001b[0m__init__\u001b[0m\u001b[0;34m(\u001b[0m\u001b[0mname\u001b[0m\u001b[0;34m=\u001b[0m\u001b[0mname\u001b[0m\u001b[0;34m,\u001b[0m \u001b[0mdtype\u001b[0m\u001b[0;34m=\u001b[0m\u001b[0mdtype\u001b[0m\u001b[0;34m,\u001b[0m \u001b[0;34m**\u001b[0m\u001b[0mkwargs\u001b[0m\u001b[0;34m)\u001b[0m\u001b[0;34m\u001b[0m\u001b[0;34m\u001b[0m\u001b[0m\n\u001b[0m\u001b[1;32m    156\u001b[0m     \u001b[0mself\u001b[0m\u001b[0;34m.\u001b[0m\u001b[0mstateful\u001b[0m \u001b[0;34m=\u001b[0m \u001b[0;32mTrue\u001b[0m  \u001b[0;31m# All metric layers are stateful.\u001b[0m\u001b[0;34m\u001b[0m\u001b[0;34m\u001b[0m\u001b[0m\n\u001b[1;32m    157\u001b[0m     \u001b[0mself\u001b[0m\u001b[0;34m.\u001b[0m\u001b[0mbuilt\u001b[0m \u001b[0;34m=\u001b[0m \u001b[0;32mTrue\u001b[0m\u001b[0;34m\u001b[0m\u001b[0;34m\u001b[0m\u001b[0m\n",
      "\u001b[0;32m~/Medical_Analysis/Code/work_start/lib/python3.7/site-packages/tensorflow/python/training/tracking/base.py\u001b[0m in \u001b[0;36m_method_wrapper\u001b[0;34m(self, *args, **kwargs)\u001b[0m\n\u001b[1;32m    515\u001b[0m     \u001b[0mself\u001b[0m\u001b[0;34m.\u001b[0m\u001b[0m_self_setattr_tracking\u001b[0m \u001b[0;34m=\u001b[0m \u001b[0;32mFalse\u001b[0m  \u001b[0;31m# pylint: disable=protected-access\u001b[0m\u001b[0;34m\u001b[0m\u001b[0;34m\u001b[0m\u001b[0m\n\u001b[1;32m    516\u001b[0m     \u001b[0;32mtry\u001b[0m\u001b[0;34m:\u001b[0m\u001b[0;34m\u001b[0m\u001b[0;34m\u001b[0m\u001b[0m\n\u001b[0;32m--> 517\u001b[0;31m       \u001b[0mresult\u001b[0m \u001b[0;34m=\u001b[0m \u001b[0mmethod\u001b[0m\u001b[0;34m(\u001b[0m\u001b[0mself\u001b[0m\u001b[0;34m,\u001b[0m \u001b[0;34m*\u001b[0m\u001b[0margs\u001b[0m\u001b[0;34m,\u001b[0m \u001b[0;34m**\u001b[0m\u001b[0mkwargs\u001b[0m\u001b[0;34m)\u001b[0m\u001b[0;34m\u001b[0m\u001b[0;34m\u001b[0m\u001b[0m\n\u001b[0m\u001b[1;32m    518\u001b[0m     \u001b[0;32mfinally\u001b[0m\u001b[0;34m:\u001b[0m\u001b[0;34m\u001b[0m\u001b[0;34m\u001b[0m\u001b[0m\n\u001b[1;32m    519\u001b[0m       \u001b[0mself\u001b[0m\u001b[0;34m.\u001b[0m\u001b[0m_self_setattr_tracking\u001b[0m \u001b[0;34m=\u001b[0m \u001b[0mprevious_value\u001b[0m  \u001b[0;31m# pylint: disable=protected-access\u001b[0m\u001b[0;34m\u001b[0m\u001b[0;34m\u001b[0m\u001b[0m\n",
      "\u001b[0;32m~/Medical_Analysis/Code/work_start/lib/python3.7/site-packages/tensorflow/python/keras/engine/base_layer.py\u001b[0m in \u001b[0;36m__init__\u001b[0;34m(self, trainable, name, dtype, dynamic, **kwargs)\u001b[0m\n\u001b[1;32m    363\u001b[0m     \u001b[0mself\u001b[0m\u001b[0;34m.\u001b[0m\u001b[0m_supports_masking\u001b[0m \u001b[0;34m=\u001b[0m \u001b[0;32mnot\u001b[0m \u001b[0mgeneric_utils\u001b[0m\u001b[0;34m.\u001b[0m\u001b[0mis_default\u001b[0m\u001b[0;34m(\u001b[0m\u001b[0mself\u001b[0m\u001b[0;34m.\u001b[0m\u001b[0mcompute_mask\u001b[0m\u001b[0;34m)\u001b[0m\u001b[0;34m\u001b[0m\u001b[0;34m\u001b[0m\u001b[0m\n\u001b[1;32m    364\u001b[0m \u001b[0;34m\u001b[0m\u001b[0m\n\u001b[0;32m--> 365\u001b[0;31m     \u001b[0mself\u001b[0m\u001b[0;34m.\u001b[0m\u001b[0m_init_set_name\u001b[0m\u001b[0;34m(\u001b[0m\u001b[0mname\u001b[0m\u001b[0;34m)\u001b[0m\u001b[0;34m\u001b[0m\u001b[0;34m\u001b[0m\u001b[0m\n\u001b[0m\u001b[1;32m    366\u001b[0m     self._activity_regularizer = regularizers.get(\n\u001b[1;32m    367\u001b[0m         kwargs.pop('activity_regularizer', None))\n",
      "\u001b[0;32m~/Medical_Analysis/Code/work_start/lib/python3.7/site-packages/tensorflow/python/keras/engine/base_layer.py\u001b[0m in \u001b[0;36m_init_set_name\u001b[0;34m(self, name, zero_based)\u001b[0m\n\u001b[1;32m   2474\u001b[0m \u001b[0;34m\u001b[0m\u001b[0m\n\u001b[1;32m   2475\u001b[0m   \u001b[0;32mdef\u001b[0m \u001b[0m_init_set_name\u001b[0m\u001b[0;34m(\u001b[0m\u001b[0mself\u001b[0m\u001b[0;34m,\u001b[0m \u001b[0mname\u001b[0m\u001b[0;34m,\u001b[0m \u001b[0mzero_based\u001b[0m\u001b[0;34m=\u001b[0m\u001b[0;32mTrue\u001b[0m\u001b[0;34m)\u001b[0m\u001b[0;34m:\u001b[0m\u001b[0;34m\u001b[0m\u001b[0;34m\u001b[0m\u001b[0m\n\u001b[0;32m-> 2476\u001b[0;31m     \u001b[0;32mif\u001b[0m \u001b[0;32mnot\u001b[0m \u001b[0mname\u001b[0m\u001b[0;34m:\u001b[0m\u001b[0;34m\u001b[0m\u001b[0;34m\u001b[0m\u001b[0m\n\u001b[0m\u001b[1;32m   2477\u001b[0m       self._name = backend.unique_object_name(\n\u001b[1;32m   2478\u001b[0m           \u001b[0mgeneric_utils\u001b[0m\u001b[0;34m.\u001b[0m\u001b[0mto_snake_case\u001b[0m\u001b[0;34m(\u001b[0m\u001b[0mself\u001b[0m\u001b[0;34m.\u001b[0m\u001b[0m__class__\u001b[0m\u001b[0;34m.\u001b[0m\u001b[0m__name__\u001b[0m\u001b[0;34m)\u001b[0m\u001b[0;34m,\u001b[0m\u001b[0;34m\u001b[0m\u001b[0;34m\u001b[0m\u001b[0m\n",
      "\u001b[0;31mValueError\u001b[0m: The truth value of an array with more than one element is ambiguous. Use a.any() or a.all()"
     ]
    }
   ],
   "source": [
    "import tensorflow as tf\n",
    "tf.keras.metrics.MeanSquaredError(target,predict)"
   ]
  },
  {
   "cell_type": "code",
   "execution_count": null,
   "id": "762458ec",
   "metadata": {},
   "outputs": [],
   "source": []
  }
 ],
 "metadata": {
  "kernelspec": {
   "display_name": "Python 3",
   "language": "python",
   "name": "python3"
  },
  "language_info": {
   "codemirror_mode": {
    "name": "ipython",
    "version": 3
   },
   "file_extension": ".py",
   "mimetype": "text/x-python",
   "name": "python",
   "nbconvert_exporter": "python",
   "pygments_lexer": "ipython3",
   "version": "3.7.10"
  }
 },
 "nbformat": 4,
 "nbformat_minor": 5
}
