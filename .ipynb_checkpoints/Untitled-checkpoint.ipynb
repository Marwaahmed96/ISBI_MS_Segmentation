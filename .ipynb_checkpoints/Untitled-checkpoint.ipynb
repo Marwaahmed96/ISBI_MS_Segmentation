{
 "cells": [
  {
   "cell_type": "code",
   "execution_count": 1,
   "id": "846a4076",
   "metadata": {},
   "outputs": [],
   "source": [
    "import os\n",
    "import matplotlib.pyplot as plt\n",
    "import ipywidgets as widgets\n",
    "from ipywidgets import interact, interactive\n",
    "\n",
    "import shutil\n",
    "from pathlib import Path\n",
    "import glob\n",
    "\n",
    "import seaborn as sns\n",
    "import pandas as pd\n",
    "from metric import*\n",
    "from config import *\n",
    "from images import *\n",
    "from reconstruct import *\n",
    "from u_net_model import *"
   ]
  },
  {
   "cell_type": "code",
   "execution_count": 2,
   "id": "ef3a83b3",
   "metadata": {},
   "outputs": [],
   "source": [
    "#reconstruct_path='/home/marwa/Downloads/reconstruct_train/'\n",
    "root='/media/marwa/F2F25460F2542ADD/MedicalAnalysis/DataSets/ISBI/train/'\n",
    "root2='/media/marwa/F2F25460F2542ADD/MedicalAnalysis/DataSets/ISBI/reconstruct/'\n",
    "#root2+='train/'\n",
    "root2+='train_epoch_batch_1500/'\n",
    "tt='/home/marwa/Downloads/train_data.csv'\n",
    "\n",
    "reconstruct_path=root2"
   ]
  },
  {
   "cell_type": "code",
   "execution_count": 14,
   "id": "a23edf5a",
   "metadata": {},
   "outputs": [
    {
     "data": {
      "application/vnd.jupyter.widget-view+json": {
       "model_id": "e177390be7e1496b9ce3e2d8502459ad",
       "version_major": 2,
       "version_minor": 0
      },
      "text/plain": [
       "interactive(children=(IntSlider(value=90, description='id', max=180), Output()), _dom_classes=('widget-interac…"
      ]
     },
     "metadata": {},
     "output_type": "display_data"
    }
   ],
   "source": [
    "patient_id='training04'\n",
    "\n",
    "study='_01'\n",
    "study2='_02'\n",
    "study3='_03'\n",
    "study4='_04'\n",
    "\n",
    "mask_path=root+patient_id+study+\"/mask1.nii\" \n",
    "target = load_img(mask_path, np.float32)\n",
    "target=np.moveaxis(target,(0,1,2),(2,1,0))\n",
    "\n",
    "flair_path=root+patient_id+study+\"/flair.nii\" \n",
    "flair = load_img(flair_path, np.float32)\n",
    "flair=np.moveaxis(flair,(0,1,2),(2,1,0))\n",
    "\n",
    "file_name='{}{}.nii.gz'\n",
    "predict_path=reconstruct_path+file_name.format(patient_id,study)\n",
    "predict=load_img(predict_path, np.float32)\n",
    "predict=np.moveaxis(predict,(0,1,2),(2,1,0))\n",
    "\n",
    "mask_path2=root+patient_id+study2+\"/mask1.nii\"\n",
    "target2 = load_img(mask_path2, np.float32)\n",
    "target2=np.moveaxis(target2,(0,1,2),(2,1,0))\n",
    "\n",
    "mask_path3=root+patient_id+study3+\"/mask1.nii\"\n",
    "target3 = load_img(mask_path3, np.float32)\n",
    "target3=np.moveaxis(target3,(0,1,2),(2,1,0))\n",
    "\n",
    "mask_path4=root+patient_id+study4+\"/mask1.nii\"\n",
    "target4 = load_img(mask_path4, np.float32)\n",
    "target4=np.moveaxis(target4,(0,1,2),(2,1,0))\n",
    "\n",
    "show3D_images([flair, target4,predict])"
   ]
  },
  {
   "cell_type": "code",
   "execution_count": 4,
   "id": "b5ca7165",
   "metadata": {},
   "outputs": [],
   "source": [
    "lost=[]\n",
    "accuracy_df=pd.DataFrame(columns=['patient_id','study','dice_coefficient','dice_coefficient2','tpr'])\n",
    "\n",
    "fold=0\n",
    "df=pd.read_csv(tt)\n",
    "train_df = df.loc[df['fold'] != fold].reset_index(drop=True)\n",
    "val_df = df.loc[df['fold'] == fold].reset_index(drop=True)\n",
    "#file_name='{}{}_marwa.nii.gz'\n",
    "file_name='{}{}.nii.gz'\n",
    "\n",
    "for i,row in val_df.iterrows():\n",
    "    \n",
    "    patient_id,study = row['patient_id'],row['study']\n",
    "    # load target\n",
    "    mask_path=root+patient_id+study+\"/mask1.nii\" \n",
    "    mask_path2=root+patient_id+study+\"/mask1.nii\" \n",
    "    target = load_img(mask_path, np.float32)\n",
    "    target2 = load_img(mask_path2, np.float32)\n",
    "    \n",
    "    predict_path=reconstruct_path+file_name.format(patient_id,study)\n",
    "\n",
    "    if os.path.isfile(predict_path):\n",
    "        predict=load_img(predict_path, np.float32)\n",
    "        target=np.expand_dims(np.expand_dims(target,axis=0),-1)\n",
    "        target2=np.expand_dims(np.expand_dims(target2,axis=0),-1)\n",
    "        \n",
    "        predict=np.expand_dims(np.expand_dims(predict,axis=0),axis=-1)\n",
    "        dice=dice_coefficient(target,predict)\n",
    "        dice2=dice_coefficient(target2,predict)\n",
    "        \n",
    "        #cm = confusion_matrix(target, predict) # careful with the order of arguments!\n",
    "        #tn, fp, fn, tp = cm.ravel()\n",
    "        #TPR_value = tp/(tp+fn)\n",
    "        #mse=tf.keras.metrics.MeanSquaredError()\n",
    "        #pre=tf.keras.metrics.Precision()\n",
    "        #recall=tf.keras.metrics.Recall()\n",
    "        tp=tf.keras.metrics.TruePositives()\n",
    "        fn=tf.keras.metrics.FalseNegatives()\n",
    "        \n",
    "        #mse.update_state(target,predict)\n",
    "        #pre.update_state(target,predict)\n",
    "        #recall.update_state(target,predict)\n",
    "        tp.update_state(target,predict)\n",
    "        fn.update_state(target, predict)\n",
    "        \n",
    "        #r1=mse.result().numpy()\n",
    "        #r2=pre.result().numpy()\n",
    "        #r3=recall.result().numpy()\n",
    "        tp_value=tp.result().numpy()\n",
    "        fn_value=fn.result().numpy()\n",
    "        tpr=tp_value/(tp_value+fn_value)\n",
    "        #fnr=r5/(r4+r5)\n",
    "        #print(r1,r2,r3,r4,r5,tpr,fnr)\n",
    "        #tp.reset_state()\n",
    "        #fn.reset_state()\n",
    "        #tpr=TPR(np.expand_dims(np.expand_dims(target,axis=0),-1),np.expand_dims(np.expand_dims(predict,axis=0),axis=-1))\n",
    "        \n",
    "        df = pd.DataFrame([[patient_id,study,dice.numpy(),dice2.numpy(), tpr ]], columns=['patient_id','study','dice_coefficient','dice_coefficient2','tpr'])\n",
    "        accuracy_df=accuracy_df.append(df)\n",
    "    else:\n",
    "        lost.append(file_name.format(patient_id,study))\n",
    "        \n",
    "        \n",
    "#accuracy_df"
   ]
  },
  {
   "cell_type": "code",
   "execution_count": 12,
   "id": "bcc05040",
   "metadata": {},
   "outputs": [
    {
     "data": {
      "text/html": [
       "<div>\n",
       "<style scoped>\n",
       "    .dataframe tbody tr th:only-of-type {\n",
       "        vertical-align: middle;\n",
       "    }\n",
       "\n",
       "    .dataframe tbody tr th {\n",
       "        vertical-align: top;\n",
       "    }\n",
       "\n",
       "    .dataframe thead th {\n",
       "        text-align: right;\n",
       "    }\n",
       "</style>\n",
       "<table border=\"1\" class=\"dataframe\">\n",
       "  <thead>\n",
       "    <tr style=\"text-align: right;\">\n",
       "      <th></th>\n",
       "      <th>patient_id</th>\n",
       "      <th>study</th>\n",
       "      <th>dice_coefficient</th>\n",
       "      <th>dice_coefficient2</th>\n",
       "      <th>tpr</th>\n",
       "    </tr>\n",
       "  </thead>\n",
       "  <tbody>\n",
       "    <tr>\n",
       "      <th>0</th>\n",
       "      <td>training01</td>\n",
       "      <td>_04</td>\n",
       "      <td>0.656878</td>\n",
       "      <td>0.656878</td>\n",
       "      <td>0.589675</td>\n",
       "    </tr>\n",
       "    <tr>\n",
       "      <th>0</th>\n",
       "      <td>training03</td>\n",
       "      <td>_04</td>\n",
       "      <td>0.539790</td>\n",
       "      <td>0.539790</td>\n",
       "      <td>0.803323</td>\n",
       "    </tr>\n",
       "    <tr>\n",
       "      <th>0</th>\n",
       "      <td>training05</td>\n",
       "      <td>_03</td>\n",
       "      <td>0.596138</td>\n",
       "      <td>0.596138</td>\n",
       "      <td>0.795595</td>\n",
       "    </tr>\n",
       "    <tr>\n",
       "      <th>0</th>\n",
       "      <td>training03</td>\n",
       "      <td>_02</td>\n",
       "      <td>0.479666</td>\n",
       "      <td>0.479666</td>\n",
       "      <td>0.850304</td>\n",
       "    </tr>\n",
       "    <tr>\n",
       "      <th>0</th>\n",
       "      <td>training04</td>\n",
       "      <td>_03</td>\n",
       "      <td>0.403678</td>\n",
       "      <td>0.403678</td>\n",
       "      <td>0.877949</td>\n",
       "    </tr>\n",
       "  </tbody>\n",
       "</table>\n",
       "</div>"
      ],
      "text/plain": [
       "   patient_id study  dice_coefficient  dice_coefficient2       tpr\n",
       "0  training01   _04          0.656878           0.656878  0.589675\n",
       "0  training03   _04          0.539790           0.539790  0.803323\n",
       "0  training05   _03          0.596138           0.596138  0.795595\n",
       "0  training03   _02          0.479666           0.479666  0.850304\n",
       "0  training04   _03          0.403678           0.403678  0.877949"
      ]
     },
     "execution_count": 12,
     "metadata": {},
     "output_type": "execute_result"
    }
   ],
   "source": []
  },
  {
   "cell_type": "code",
   "execution_count": 73,
   "id": "55f449b6",
   "metadata": {},
   "outputs": [
    {
     "data": {
      "text/html": [
       "<div>\n",
       "<style scoped>\n",
       "    .dataframe tbody tr th:only-of-type {\n",
       "        vertical-align: middle;\n",
       "    }\n",
       "\n",
       "    .dataframe tbody tr th {\n",
       "        vertical-align: top;\n",
       "    }\n",
       "\n",
       "    .dataframe thead th {\n",
       "        text-align: right;\n",
       "    }\n",
       "</style>\n",
       "<table border=\"1\" class=\"dataframe\">\n",
       "  <thead>\n",
       "    <tr style=\"text-align: right;\">\n",
       "      <th></th>\n",
       "      <th>patient_id</th>\n",
       "      <th>study</th>\n",
       "      <th>dice_coefficient</th>\n",
       "      <th>dice_coefficient2</th>\n",
       "      <th>tpr</th>\n",
       "    </tr>\n",
       "  </thead>\n",
       "  <tbody>\n",
       "    <tr>\n",
       "      <th>0</th>\n",
       "      <td>training01</td>\n",
       "      <td>_04</td>\n",
       "      <td>0.661171</td>\n",
       "      <td>0.661171</td>\n",
       "      <td>0.595702</td>\n",
       "    </tr>\n",
       "    <tr>\n",
       "      <th>0</th>\n",
       "      <td>training03</td>\n",
       "      <td>_04</td>\n",
       "      <td>0.534615</td>\n",
       "      <td>0.534615</td>\n",
       "      <td>0.805641</td>\n",
       "    </tr>\n",
       "    <tr>\n",
       "      <th>0</th>\n",
       "      <td>training05</td>\n",
       "      <td>_03</td>\n",
       "      <td>0.597610</td>\n",
       "      <td>0.597610</td>\n",
       "      <td>0.798678</td>\n",
       "    </tr>\n",
       "    <tr>\n",
       "      <th>0</th>\n",
       "      <td>training03</td>\n",
       "      <td>_02</td>\n",
       "      <td>0.481207</td>\n",
       "      <td>0.481207</td>\n",
       "      <td>0.857333</td>\n",
       "    </tr>\n",
       "    <tr>\n",
       "      <th>0</th>\n",
       "      <td>training04</td>\n",
       "      <td>_03</td>\n",
       "      <td>0.389176</td>\n",
       "      <td>0.389176</td>\n",
       "      <td>0.870256</td>\n",
       "    </tr>\n",
       "  </tbody>\n",
       "</table>\n",
       "</div>"
      ],
      "text/plain": [
       "   patient_id study  dice_coefficient  dice_coefficient2       tpr\n",
       "0  training01   _04          0.661171           0.661171  0.595702\n",
       "0  training03   _04          0.534615           0.534615  0.805641\n",
       "0  training05   _03          0.597610           0.597610  0.798678\n",
       "0  training03   _02          0.481207           0.481207  0.857333\n",
       "0  training04   _03          0.389176           0.389176  0.870256"
      ]
     },
     "execution_count": 73,
     "metadata": {},
     "output_type": "execute_result"
    }
   ],
   "source": [
    "accuracy_df"
   ]
  },
  {
   "cell_type": "code",
   "execution_count": 5,
   "id": "95742bc0",
   "metadata": {},
   "outputs": [
    {
     "data": {
      "text/html": [
       "<div>\n",
       "<style scoped>\n",
       "    .dataframe tbody tr th:only-of-type {\n",
       "        vertical-align: middle;\n",
       "    }\n",
       "\n",
       "    .dataframe tbody tr th {\n",
       "        vertical-align: top;\n",
       "    }\n",
       "\n",
       "    .dataframe thead th {\n",
       "        text-align: right;\n",
       "    }\n",
       "</style>\n",
       "<table border=\"1\" class=\"dataframe\">\n",
       "  <thead>\n",
       "    <tr style=\"text-align: right;\">\n",
       "      <th></th>\n",
       "      <th>patient_id</th>\n",
       "      <th>study</th>\n",
       "      <th>dice_coefficient</th>\n",
       "      <th>dice_coefficient2</th>\n",
       "      <th>tpr</th>\n",
       "    </tr>\n",
       "  </thead>\n",
       "  <tbody>\n",
       "    <tr>\n",
       "      <th>0</th>\n",
       "      <td>training01</td>\n",
       "      <td>_04</td>\n",
       "      <td>0.753714</td>\n",
       "      <td>0.753714</td>\n",
       "      <td>0.728845</td>\n",
       "    </tr>\n",
       "    <tr>\n",
       "      <th>0</th>\n",
       "      <td>training03</td>\n",
       "      <td>_04</td>\n",
       "      <td>0.607261</td>\n",
       "      <td>0.607261</td>\n",
       "      <td>0.885433</td>\n",
       "    </tr>\n",
       "    <tr>\n",
       "      <th>0</th>\n",
       "      <td>training05</td>\n",
       "      <td>_03</td>\n",
       "      <td>0.641519</td>\n",
       "      <td>0.641519</td>\n",
       "      <td>0.844714</td>\n",
       "    </tr>\n",
       "    <tr>\n",
       "      <th>0</th>\n",
       "      <td>training03</td>\n",
       "      <td>_02</td>\n",
       "      <td>0.540361</td>\n",
       "      <td>0.540361</td>\n",
       "      <td>0.881269</td>\n",
       "    </tr>\n",
       "    <tr>\n",
       "      <th>0</th>\n",
       "      <td>training04</td>\n",
       "      <td>_03</td>\n",
       "      <td>0.504541</td>\n",
       "      <td>0.504541</td>\n",
       "      <td>0.883077</td>\n",
       "    </tr>\n",
       "  </tbody>\n",
       "</table>\n",
       "</div>"
      ],
      "text/plain": [
       "   patient_id study  dice_coefficient  dice_coefficient2       tpr\n",
       "0  training01   _04          0.753714           0.753714  0.728845\n",
       "0  training03   _04          0.607261           0.607261  0.885433\n",
       "0  training05   _03          0.641519           0.641519  0.844714\n",
       "0  training03   _02          0.540361           0.540361  0.881269\n",
       "0  training04   _03          0.504541           0.504541  0.883077"
      ]
     },
     "execution_count": 5,
     "metadata": {},
     "output_type": "execute_result"
    }
   ],
   "source": [
    "accuracy_df"
   ]
  },
  {
   "cell_type": "code",
   "execution_count": 6,
   "id": "c3242755",
   "metadata": {},
   "outputs": [
    {
     "data": {
      "text/plain": [
       "<AxesSubplot:>"
      ]
     },
     "execution_count": 6,
     "metadata": {},
     "output_type": "execute_result"
    },
    {
     "data": {
      "image/png": "[encoded data removed]",
      "text/plain": [
       "<Figure size 432x288 with 1 Axes>"
      ]
     },
     "metadata": {
      "needs_background": "light"
     },
     "output_type": "display_data"
    }
   ],
   "source": [
    "accuracy_df.boxplot(column=['dice_coefficient','dice_coefficient2','tpr'])"
   ]
  },
  {
   "cell_type": "code",
   "execution_count": 7,
   "id": "6b27f565",
   "metadata": {},
   "outputs": [],
   "source": [
    "val_df=accuracy_df.loc[:,['dice_coefficient','dice_coefficient2','tpr']]"
   ]
  },
  {
   "cell_type": "code",
   "execution_count": 8,
   "id": "d634a41b",
   "metadata": {},
   "outputs": [
    {
     "data": {
      "image/png": "[encoded data removed]",
      "text/plain": [
       "<Figure size 432x432 with 1 Axes>"
      ]
     },
     "metadata": {
      "needs_background": "light"
     },
     "output_type": "display_data"
    }
   ],
   "source": [
    "colors = ['#35FCFF', '#FF355A','#FF355B']\n",
    "palette = sns.color_palette(colors, 3)\n",
    "\n",
    "fig, ax = plt.subplots(figsize=(6, 6));\n",
    "sns.barplot(x=val_df.mean().index, y=val_df.mean(), palette=palette, ax=ax);\n",
    "ax.set_xticklabels(val_df.columns, fontsize=14, rotation=15);\n",
    "ax.set_title(\"Dice Coefficients from Validation\", fontsize=20)\n",
    "\n",
    "for idx, p in enumerate(ax.patches):\n",
    "        percentage = '{:.1f}%'.format(100 * val_df.mean().values[idx])\n",
    "        x = p.get_x() + p.get_width() / 2 - 0.15\n",
    "        y = p.get_y() + p.get_height()\n",
    "        ax.annotate(percentage, (x, y), fontsize=15, fontweight=\"bold\")\n",
    "\n",
    "fig.savefig(\"result1.png\", format=\"png\",  pad_inches=0.2, transparent=False, bbox_inches='tight')\n",
    "fig.savefig(\"result1.svg\", format=\"svg\",  pad_inches=0.2, transparent=False, bbox_inches='tight')"
   ]
  },
  {
   "cell_type": "code",
   "execution_count": 3,
   "id": "262f9508",
   "metadata": {},
   "outputs": [],
   "source": [
    "path='/media/marwa/F2F25460F2542ADD/MedicalAnalysis/DataSets/ISBI/reconstruct/train_epoch_batch_1500/'\n",
    "_,_,files =next(os.walk(path))\n",
    "\n",
    "for file in files:\n",
    "    id,study=file.split('_')[0],file.split('_')[1]\n",
    "    name=id+'_'+study+'.nii.gz'\n",
    "    os.rename(path+file,path+name)"
   ]
  },
  {
   "cell_type": "code",
   "execution_count": null,
   "id": "7e99bd9f",
   "metadata": {},
   "outputs": [],
   "source": []
  }
 ],
 "metadata": {
  "kernelspec": {
   "display_name": "Python 3",
   "language": "python",
   "name": "python3"
  },
  "language_info": {
   "codemirror_mode": {
    "name": "ipython",
    "version": 3
   },
   "file_extension": ".py",
   "mimetype": "text/x-python",
   "name": "python",
   "nbconvert_exporter": "python",
   "pygments_lexer": "ipython3",
   "version": "3.7.10"
  }
 },
 "nbformat": 4,
 "nbformat_minor": 5
}
