{
 "cells": [
  {
   "cell_type": "code",
   "execution_count": 2,
   "id": "20d9bb18",
   "metadata": {},
   "outputs": [],
   "source": [
    "import os, sys\n",
    "from math import floor\n",
    "from operator import itemgetter\n",
    "\n",
    "import shutil\n",
    "import glob\n",
    "from pathlib import Path\n",
    "\n",
    "import pandas as pd\n",
    "import numpy as np\n",
    "import nibabel as nib\n",
    "\n",
    "from sklearn.model_selection import StratifiedKFold\n",
    "import h5py\n",
    "\n",
    "import matplotlib.pyplot as plt\n",
    "import ipywidgets as widgets\n",
    "from ipywidgets import interact, interactive\n",
    "from collections import defaultdict\n",
    "from config import *\n",
    "from images import *\n",
    "from data_utils import *"
   ]
  },
  {
   "cell_type": "code",
   "execution_count": null,
   "id": "fabbff52",
   "metadata": {},
   "outputs": [],
   "source": []
  },
  {
   "cell_type": "code",
   "execution_count": 3,
   "id": "95511188",
   "metadata": {},
   "outputs": [
    {
     "name": "stdout",
     "output_type": "stream",
     "text": [
      "columns:  Index(['root_path', 'patient_id', 'study', 'mask1', 'mask2', 'flair', 't2',\n",
      "       'pd', 'mprage', 'fold'],\n",
      "      dtype='object')\n"
     ]
    }
   ],
   "source": [
    "train_csv_path = options[\"train_csv_path\"]\n",
    "train_df = pd.read_csv(train_csv_path)\n",
    "\n",
    "print(\"columns: \",train_df.columns)\n",
    "\n",
    "train_x_data ={}\n",
    "train_y_data ={}\n",
    "\n",
    "#load data pathes from train csv file\n",
    "for index, row in train_df.iterrows():\n",
    "    \n",
    "    train_x_item=defaultdict(list)\n",
    "    for modality in options['modalities']:\n",
    "        train_x_item[modality]=row['root_path']+row[modality]\n",
    "    train_x_data[row['patient_id']+row['study']]=train_x_item\n",
    "    \n",
    "    train_y_item=defaultdict(list)\n",
    "    for mask in options['masks']:\n",
    "        train_y_item[mask]=row['root_path']+row[mask]\n",
    "    train_y_data[row['patient_id']+row['study']]=train_y_item\n"
   ]
  },
  {
   "cell_type": "code",
   "execution_count": 3,
   "id": "eef273bb",
   "metadata": {},
   "outputs": [],
   "source": [
    "datatype=np.float32\n",
    "threshold=2\n",
    "\n",
    "input_masks = [ train_x_data[key]['flair'] for key in train_x_data]\n",
    "selected_voxels=select_training_voxels(input_masks)"
   ]
  },
  {
   "cell_type": "code",
   "execution_count": 4,
   "id": "8e4640d6",
   "metadata": {},
   "outputs": [
    {
     "data": {
      "application/vnd.jupyter.widget-view+json": {
       "model_id": "0c24f4622a9d43bf918b922c0c8cedac",
       "version_major": 2,
       "version_minor": 0
      },
      "text/plain": [
       "interactive(children=(IntSlider(value=90, description='id', max=180), Output()), _dom_classes=('widget-interac…"
      ]
     },
     "metadata": {},
     "output_type": "display_data"
    }
   ],
   "source": [
    "show3D_images([selected_voxels[0]])"
   ]
  },
  {
   "cell_type": "code",
   "execution_count": null,
   "id": "ba3b05c4",
   "metadata": {},
   "outputs": [],
   "source": [
    "trainig_data= load_training_data(train_x_data, train_y_data, options)"
   ]
  },
  {
   "cell_type": "code",
   "execution_count": 3,
   "id": "1a532ad5",
   "metadata": {},
   "outputs": [
    {
     "name": "stdout",
     "output_type": "stream",
     "text": [
      "124\n"
     ]
    },
    {
     "data": {
      "text/html": [
       "<div>\n",
       "<style scoped>\n",
       "    .dataframe tbody tr th:only-of-type {\n",
       "        vertical-align: middle;\n",
       "    }\n",
       "\n",
       "    .dataframe tbody tr th {\n",
       "        vertical-align: top;\n",
       "    }\n",
       "\n",
       "    .dataframe thead th {\n",
       "        text-align: right;\n",
       "    }\n",
       "</style>\n",
       "<table border=\"1\" class=\"dataframe\">\n",
       "  <thead>\n",
       "    <tr style=\"text-align: right;\">\n",
       "      <th></th>\n",
       "      <th>Subject</th>\n",
       "      <th>Time point</th>\n",
       "      <th>Reference</th>\n",
       "      <th>Dice</th>\n",
       "      <th>Jaccard</th>\n",
       "      <th>PPV</th>\n",
       "      <th>TPR</th>\n",
       "      <th>LFPR</th>\n",
       "      <th>LTPR</th>\n",
       "      <th>VD</th>\n",
       "      <th>SD</th>\n",
       "      <th>Manual Volume</th>\n",
       "      <th>Segmentation Volume</th>\n",
       "    </tr>\n",
       "  </thead>\n",
       "  <tbody>\n",
       "    <tr>\n",
       "      <th>0</th>\n",
       "      <td>test01</td>\n",
       "      <td>01</td>\n",
       "      <td>1.0</td>\n",
       "      <td>0.8216</td>\n",
       "      <td>0.6972</td>\n",
       "      <td>0.8958</td>\n",
       "      <td>0.7588</td>\n",
       "      <td>0.1250</td>\n",
       "      <td>0.6438</td>\n",
       "      <td>0.1529</td>\n",
       "      <td>0.7096</td>\n",
       "      <td>12450.0</td>\n",
       "      <td>10546.0</td>\n",
       "    </tr>\n",
       "    <tr>\n",
       "      <th>1</th>\n",
       "      <td>test01</td>\n",
       "      <td>02</td>\n",
       "      <td>1.0</td>\n",
       "      <td>0.8110</td>\n",
       "      <td>0.6820</td>\n",
       "      <td>0.9061</td>\n",
       "      <td>0.7339</td>\n",
       "      <td>0.1923</td>\n",
       "      <td>0.7179</td>\n",
       "      <td>0.1900</td>\n",
       "      <td>0.8862</td>\n",
       "      <td>12079.0</td>\n",
       "      <td>9784.0</td>\n",
       "    </tr>\n",
       "    <tr>\n",
       "      <th>2</th>\n",
       "      <td>test01</td>\n",
       "      <td>03</td>\n",
       "      <td>1.0</td>\n",
       "      <td>0.7936</td>\n",
       "      <td>0.6578</td>\n",
       "      <td>0.8895</td>\n",
       "      <td>0.7164</td>\n",
       "      <td>0.1282</td>\n",
       "      <td>0.6829</td>\n",
       "      <td>0.1946</td>\n",
       "      <td>0.8124</td>\n",
       "      <td>11580.0</td>\n",
       "      <td>9327.0</td>\n",
       "    </tr>\n",
       "    <tr>\n",
       "      <th>3</th>\n",
       "      <td>test01</td>\n",
       "      <td>04</td>\n",
       "      <td>1.0</td>\n",
       "      <td>0.7721</td>\n",
       "      <td>0.6287</td>\n",
       "      <td>0.9175</td>\n",
       "      <td>0.6664</td>\n",
       "      <td>0.1351</td>\n",
       "      <td>0.6400</td>\n",
       "      <td>0.2736</td>\n",
       "      <td>0.9362</td>\n",
       "      <td>13209.0</td>\n",
       "      <td>9595.0</td>\n",
       "    </tr>\n",
       "    <tr>\n",
       "      <th>4</th>\n",
       "      <td>test01</td>\n",
       "      <td>01</td>\n",
       "      <td>2.0</td>\n",
       "      <td>0.7072</td>\n",
       "      <td>0.5470</td>\n",
       "      <td>0.9561</td>\n",
       "      <td>0.5611</td>\n",
       "      <td>0.0156</td>\n",
       "      <td>0.3964</td>\n",
       "      <td>0.4132</td>\n",
       "      <td>1.6243</td>\n",
       "      <td>17971.0</td>\n",
       "      <td>10546.0</td>\n",
       "    </tr>\n",
       "    <tr>\n",
       "      <th>...</th>\n",
       "      <td>...</td>\n",
       "      <td>...</td>\n",
       "      <td>...</td>\n",
       "      <td>...</td>\n",
       "      <td>...</td>\n",
       "      <td>...</td>\n",
       "      <td>...</td>\n",
       "      <td>...</td>\n",
       "      <td>...</td>\n",
       "      <td>...</td>\n",
       "      <td>...</td>\n",
       "      <td>...</td>\n",
       "      <td>...</td>\n",
       "    </tr>\n",
       "    <tr>\n",
       "      <th>119</th>\n",
       "      <td>test14</td>\n",
       "      <td>03</td>\n",
       "      <td>2.0</td>\n",
       "      <td>0.7122</td>\n",
       "      <td>0.5530</td>\n",
       "      <td>0.8623</td>\n",
       "      <td>0.6066</td>\n",
       "      <td>0.0714</td>\n",
       "      <td>0.4167</td>\n",
       "      <td>0.2965</td>\n",
       "      <td>1.9424</td>\n",
       "      <td>2880.0</td>\n",
       "      <td>2026.0</td>\n",
       "    </tr>\n",
       "    <tr>\n",
       "      <th>120</th>\n",
       "      <td>test14</td>\n",
       "      <td>04</td>\n",
       "      <td>2.0</td>\n",
       "      <td>0.5153</td>\n",
       "      <td>0.3470</td>\n",
       "      <td>0.9295</td>\n",
       "      <td>0.3564</td>\n",
       "      <td>0.0000</td>\n",
       "      <td>0.1884</td>\n",
       "      <td>0.6166</td>\n",
       "      <td>3.9441</td>\n",
       "      <td>5589.0</td>\n",
       "      <td>2143.0</td>\n",
       "    </tr>\n",
       "    <tr>\n",
       "      <th>121</th>\n",
       "      <td>test14</td>\n",
       "      <td>05</td>\n",
       "      <td>2.0</td>\n",
       "      <td>0.6154</td>\n",
       "      <td>0.4445</td>\n",
       "      <td>0.7956</td>\n",
       "      <td>0.5018</td>\n",
       "      <td>0.0625</td>\n",
       "      <td>0.3187</td>\n",
       "      <td>0.3693</td>\n",
       "      <td>2.8304</td>\n",
       "      <td>3886.0</td>\n",
       "      <td>2451.0</td>\n",
       "    </tr>\n",
       "    <tr>\n",
       "      <th>122</th>\n",
       "      <td>Subject</td>\n",
       "      <td>Volume Correlation</td>\n",
       "      <td>NaN</td>\n",
       "      <td>NaN</td>\n",
       "      <td>NaN</td>\n",
       "      <td>NaN</td>\n",
       "      <td>NaN</td>\n",
       "      <td>NaN</td>\n",
       "      <td>NaN</td>\n",
       "      <td>NaN</td>\n",
       "      <td>NaN</td>\n",
       "      <td>NaN</td>\n",
       "      <td>NaN</td>\n",
       "    </tr>\n",
       "    <tr>\n",
       "      <th>123</th>\n",
       "      <td>All</td>\n",
       "      <td>0.86583</td>\n",
       "      <td>NaN</td>\n",
       "      <td>NaN</td>\n",
       "      <td>NaN</td>\n",
       "      <td>NaN</td>\n",
       "      <td>NaN</td>\n",
       "      <td>NaN</td>\n",
       "      <td>NaN</td>\n",
       "      <td>NaN</td>\n",
       "      <td>NaN</td>\n",
       "      <td>NaN</td>\n",
       "      <td>NaN</td>\n",
       "    </tr>\n",
       "  </tbody>\n",
       "</table>\n",
       "<p>124 rows × 13 columns</p>\n",
       "</div>"
      ],
      "text/plain": [
       "     Subject          Time point  Reference    Dice  Jaccard     PPV     TPR  \\\n",
       "0     test01                  01        1.0  0.8216   0.6972  0.8958  0.7588   \n",
       "1     test01                  02        1.0  0.8110   0.6820  0.9061  0.7339   \n",
       "2     test01                  03        1.0  0.7936   0.6578  0.8895  0.7164   \n",
       "3     test01                  04        1.0  0.7721   0.6287  0.9175  0.6664   \n",
       "4     test01                  01        2.0  0.7072   0.5470  0.9561  0.5611   \n",
       "..       ...                 ...        ...     ...      ...     ...     ...   \n",
       "119   test14                  03        2.0  0.7122   0.5530  0.8623  0.6066   \n",
       "120   test14                  04        2.0  0.5153   0.3470  0.9295  0.3564   \n",
       "121   test14                  05        2.0  0.6154   0.4445  0.7956  0.5018   \n",
       "122  Subject  Volume Correlation        NaN     NaN      NaN     NaN     NaN   \n",
       "123      All             0.86583        NaN     NaN      NaN     NaN     NaN   \n",
       "\n",
       "       LFPR    LTPR      VD      SD  Manual Volume  Segmentation Volume  \n",
       "0    0.1250  0.6438  0.1529  0.7096        12450.0              10546.0  \n",
       "1    0.1923  0.7179  0.1900  0.8862        12079.0               9784.0  \n",
       "2    0.1282  0.6829  0.1946  0.8124        11580.0               9327.0  \n",
       "3    0.1351  0.6400  0.2736  0.9362        13209.0               9595.0  \n",
       "4    0.0156  0.3964  0.4132  1.6243        17971.0              10546.0  \n",
       "..      ...     ...     ...     ...            ...                  ...  \n",
       "119  0.0714  0.4167  0.2965  1.9424         2880.0               2026.0  \n",
       "120  0.0000  0.1884  0.6166  3.9441         5589.0               2143.0  \n",
       "121  0.0625  0.3187  0.3693  2.8304         3886.0               2451.0  \n",
       "122     NaN     NaN     NaN     NaN            NaN                  NaN  \n",
       "123     NaN     NaN     NaN     NaN            NaN                  NaN  \n",
       "\n",
       "[124 rows x 13 columns]"
      ]
     },
     "execution_count": 3,
     "metadata": {},
     "output_type": "execute_result"
    }
   ],
   "source": [
    "import pandas as pd\n",
    "df=pd.read_csv('emb_12122019_1707.csv')\n",
    "print(len(df))\n",
    "df"
   ]
  },
  {
   "cell_type": "code",
   "execution_count": 37,
   "id": "1ec2cdf4",
   "metadata": {},
   "outputs": [
    {
     "data": {
      "text/plain": [
       "['test09_01_marwa.nii.gz',\n",
       " 'test08_02_marwa.nii.gz',\n",
       " 'test13_01_marwa.nii.gz',\n",
       " 'test11_02_marwa.nii.gz',\n",
       " 'test05_04_marwa.nii.gz',\n",
       " 'test09_03_marwa.nii.gz',\n",
       " 'test11_04_marwa.nii.gz',\n",
       " 'test08_01_marwa.nii.gz',\n",
       " 'test06_01_marwa.nii.gz',\n",
       " 'test11_03_marwa.nii.gz',\n",
       " 'test14_03_marwa.nii.gz',\n",
       " 'test07_02_marwa.nii.gz',\n",
       " 'test12_02_marwa.nii.gz',\n",
       " 'test13_02_marwa.nii.gz',\n",
       " 'test10_02_marwa.nii.gz',\n",
       " 'test14_05_marwa.nii.gz',\n",
       " 'test10_03_marwa.nii.gz',\n",
       " 'test09_04_marwa.nii.gz',\n",
       " 'test14_04_marwa.nii.gz',\n",
       " 'test08_03_marwa.nii.gz',\n",
       " 'test11_05_marwa.nii.gz',\n",
       " 'test06_04_marwa.nii.gz',\n",
       " 'test09_02_marwa.nii.gz',\n",
       " 'test10_06_marwa.nii.gz',\n",
       " 'test.zip',\n",
       " 'test08_04_marwa.nii.gz',\n",
       " 'test13_03_marwa.nii.gz',\n",
       " 'test12_03_marwa.nii.gz',\n",
       " 'test13_04_marwa.nii.gz']"
      ]
     },
     "execution_count": 37,
     "metadata": {},
     "output_type": "execute_result"
    }
   ],
   "source": []
  },
  {
   "cell_type": "code",
   "execution_count": 46,
   "id": "21229b2a",
   "metadata": {},
   "outputs": [],
   "source": [
    "import os\n",
    "_,dirs,_=next(os.walk('/media/marwa/F2F25460F2542ADD/MedicalAnalysis/DataSets/ISBI/test'))\n",
    "\n",
    "_,dirs2,files=next(os.walk('/home/marwa/Downloads/masks/masks'))\n",
    "\n",
    "names=[x.split('_')[0]+\"_\"+x.split('_')[1] for x in files]"
   ]
  },
  {
   "cell_type": "code",
   "execution_count": 47,
   "id": "efd21ca1",
   "metadata": {},
   "outputs": [
    {
     "data": {
      "text/plain": [
       "(61, 42, 19)"
      ]
     },
     "execution_count": 47,
     "metadata": {},
     "output_type": "execute_result"
    }
   ],
   "source": [
    "len(dirs),len(names),(len(dirs)-len(names))"
   ]
  },
  {
   "cell_type": "code",
   "execution_count": 48,
   "id": "52b951fc",
   "metadata": {},
   "outputs": [
    {
     "data": {
      "text/plain": [
       "19"
      ]
     },
     "execution_count": 48,
     "metadata": {},
     "output_type": "execute_result"
    }
   ],
   "source": [
    "lost=[x for x in dirs if x not in names]\n",
    "len(lost)"
   ]
  },
  {
   "cell_type": "code",
   "execution_count": 49,
   "id": "1caf6756",
   "metadata": {},
   "outputs": [
    {
     "data": {
      "text/plain": [
       "['test01_02',\n",
       " 'test01_03',\n",
       " 'test02_01',\n",
       " 'test02_05',\n",
       " 'test03_01',\n",
       " 'test03_04',\n",
       " 'test06_02',\n",
       " 'test06_03',\n",
       " 'test07_01',\n",
       " 'test07_03',\n",
       " 'test07_04',\n",
       " 'test10_01',\n",
       " 'test10_04',\n",
       " 'test10_05',\n",
       " 'test11_01',\n",
       " 'test12_01',\n",
       " 'test12_04',\n",
       " 'test14_01',\n",
       " 'test14_02']"
      ]
     },
     "execution_count": 49,
     "metadata": {},
     "output_type": "execute_result"
    }
   ],
   "source": [
    "lost"
   ]
  },
  {
   "cell_type": "code",
   "execution_count": 50,
   "id": "06826d22",
   "metadata": {},
   "outputs": [
    {
     "data": {
      "text/plain": [
       "3.8"
      ]
     },
     "execution_count": 50,
     "metadata": {},
     "output_type": "execute_result"
    }
   ],
   "source": [
    "19*12/60"
   ]
  },
  {
   "cell_type": "code",
   "execution_count": null,
   "id": "d4e2cb71",
   "metadata": {},
   "outputs": [],
   "source": []
  }
 ],
 "metadata": {
  "kernelspec": {
   "display_name": "Python 3",
   "language": "python",
   "name": "python3"
  },
  "language_info": {
   "codemirror_mode": {
    "name": "ipython",
    "version": 3
   },
   "file_extension": ".py",
   "mimetype": "text/x-python",
   "name": "python",
   "nbconvert_exporter": "python",
   "pygments_lexer": "ipython3",
   "version": "3.7.10"
  }
 },
 "nbformat": 4,
 "nbformat_minor": 5
}
