{
 "cells": [
  {
   "cell_type": "code",
   "execution_count": 2,
   "id": "20d9bb18",
   "metadata": {},
   "outputs": [],
   "source": [
    "import os, sys\n",
    "from math import floor\n",
    "from operator import itemgetter\n",
    "\n",
    "import shutil\n",
    "import glob\n",
    "from pathlib import Path\n",
    "\n",
    "import pandas as pd\n",
    "import numpy as np\n",
    "import nibabel as nib\n",
    "\n",
    "from sklearn.model_selection import StratifiedKFold\n",
    "import h5py\n",
    "\n",
    "import matplotlib.pyplot as plt\n",
    "import ipywidgets as widgets\n",
    "from ipywidgets import interact, interactive\n",
    "from collections import defaultdict\n",
    "from config import *\n",
    "from images import *\n",
    "from data_utils import *"
   ]
  },
  {
   "cell_type": "code",
   "execution_count": null,
   "id": "fabbff52",
   "metadata": {},
   "outputs": [],
   "source": []
  },
  {
   "cell_type": "code",
   "execution_count": 3,
   "id": "95511188",
   "metadata": {},
   "outputs": [
    {
     "name": "stdout",
     "output_type": "stream",
     "text": [
      "columns:  Index(['root_path', 'patient_id', 'study', 'mask1', 'mask2', 'flair', 't2',\n",
      "       'pd', 'mprage', 'fold'],\n",
      "      dtype='object')\n"
     ]
    }
   ],
   "source": [
    "train_csv_path = options[\"train_csv_path\"]\n",
    "train_df = pd.read_csv(train_csv_path)\n",
    "\n",
    "print(\"columns: \",train_df.columns)\n",
    "\n",
    "train_x_data ={}\n",
    "train_y_data ={}\n",
    "\n",
    "#load data pathes from train csv file\n",
    "for index, row in train_df.iterrows():\n",
    "    \n",
    "    train_x_item=defaultdict(list)\n",
    "    for modality in options['modalities']:\n",
    "        train_x_item[modality]=row['root_path']+row[modality]\n",
    "    train_x_data[row['patient_id']+row['study']]=train_x_item\n",
    "    \n",
    "    train_y_item=defaultdict(list)\n",
    "    for mask in options['masks']:\n",
    "        train_y_item[mask]=row['root_path']+row[mask]\n",
    "    train_y_data[row['patient_id']+row['study']]=train_y_item\n"
   ]
  },
  {
   "cell_type": "code",
   "execution_count": 3,
   "id": "eef273bb",
   "metadata": {},
   "outputs": [],
   "source": [
    "datatype=np.float32\n",
    "threshold=2\n",
    "\n",
    "input_masks = [ train_x_data[key]['flair'] for key in train_x_data]\n",
    "selected_voxels=select_training_voxels(input_masks)"
   ]
  },
  {
   "cell_type": "code",
   "execution_count": 4,
   "id": "8e4640d6",
   "metadata": {},
   "outputs": [
    {
     "data": {
      "application/vnd.jupyter.widget-view+json": {
       "model_id": "0c24f4622a9d43bf918b922c0c8cedac",
       "version_major": 2,
       "version_minor": 0
      },
      "text/plain": [
       "interactive(children=(IntSlider(value=90, description='id', max=180), Output()), _dom_classes=('widget-interac…"
      ]
     },
     "metadata": {},
     "output_type": "display_data"
    }
   ],
   "source": [
    "show3D_images([selected_voxels[0]])"
   ]
  },
  {
   "cell_type": "code",
   "execution_count": null,
   "id": "ba3b05c4",
   "metadata": {},
   "outputs": [],
   "source": [
    "trainig_data= load_training_data(train_x_data, train_y_data, options)"
   ]
  },
  {
   "cell_type": "code",
   "execution_count": null,
   "id": "1a532ad5",
   "metadata": {},
   "outputs": [],
   "source": []
  }
 ],
 "metadata": {
  "kernelspec": {
   "display_name": "Python 3",
   "language": "python",
   "name": "python3"
  },
  "language_info": {
   "codemirror_mode": {
    "name": "ipython",
    "version": 3
   },
   "file_extension": ".py",
   "mimetype": "text/x-python",
   "name": "python",
   "nbconvert_exporter": "python",
   "pygments_lexer": "ipython3",
   "version": "3.7.10"
  }
 },
 "nbformat": 4,
 "nbformat_minor": 5
}
