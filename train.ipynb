{
 "cells": [
  {
   "cell_type": "code",
   "execution_count": 3,
   "id": "356aecd4",
   "metadata": {},
   "outputs": [
    {
     "name": "stdout",
     "output_type": "stream",
     "text": [
      "channels_last\n"
     ]
    }
   ],
   "source": [
    "import os, sys, random\n",
    "from math import floor\n",
    "from operator import itemgetter\n",
    "\n",
    "import shutil\n",
    "import glob\n",
    "from pathlib import Path\n",
    "\n",
    "import pandas as pd\n",
    "import numpy as np\n",
    "import nibabel as nib\n",
    "\n",
    "from sklearn.model_selection import StratifiedKFold\n",
    "#from skimage.transform import resize\n",
    "import h5py\n",
    "\n",
    "import matplotlib.pyplot as plt\n",
    "import ipywidgets as widgets\n",
    "from ipywidgets import interact, interactive\n",
    "from collections import defaultdict\n",
    "from config import *\n",
    "from images import *\n",
    "from data_utils import *\n",
    "from generator import *\n",
    "\n",
    "from collections import defaultdict\n",
    "\n",
    "import tensorflow as tf\n",
    "import tensorflow.keras as keras\n",
    "from tensorflow.keras import backend as K\n",
    "from tensorflow.keras.models import Model\n",
    "from tensorflow.keras.layers import Input, Conv3D, Dropout, MaxPooling3D, UpSampling3D, Activation, BatchNormalization, PReLU, Conv3DTranspose, concatenate\n",
    "from tensorflow.keras.optimizers import Adam\n",
    "from tensorflow.keras.callbacks import ModelCheckpoint, CSVLogger, LearningRateScheduler, ReduceLROnPlateau, EarlyStopping\n",
    "#tf.enable_eager_execution()\n",
    "\n",
    "# force channels-last ordering\n",
    "tf.keras.backend.set_image_data_format('channels_last')\n",
    "print(tf.keras.backend.image_data_format())\n",
    "\n"
   ]
  },
  {
   "cell_type": "code",
   "execution_count": 4,
   "id": "99a300b0",
   "metadata": {},
   "outputs": [],
   "source": [
    "data,ref,patches=load_data_patches(options)"
   ]
  },
  {
   "cell_type": "code",
   "execution_count": 5,
   "id": "7baf5941",
   "metadata": {},
   "outputs": [],
   "source": [
    "batch_size=options['batch_size']"
   ]
  },
  {
   "cell_type": "code",
   "execution_count": 6,
   "id": "7aa777b8",
   "metadata": {},
   "outputs": [
    {
     "data": {
      "text/plain": [
       "(200, 64874)"
      ]
     },
     "execution_count": 6,
     "metadata": {},
     "output_type": "execute_result"
    }
   ],
   "source": [
    "batch_size, patches"
   ]
  },
  {
   "cell_type": "code",
   "execution_count": 7,
   "id": "a1e805e7",
   "metadata": {},
   "outputs": [],
   "source": [
    "gen=ISBIDataset(data=data, options=options, patches=patches)\n"
   ]
  },
  {
   "cell_type": "code",
   "execution_count": null,
   "id": "fef94669",
   "metadata": {},
   "outputs": [],
   "source": [
    "count=0\n",
    "idx=0\n",
    "for x,y in gen.__getitem__():\n",
    "    print(x.shape,y.shape)"
   ]
  },
  {
   "cell_type": "code",
   "execution_count": 25,
   "id": "9c0a7b25",
   "metadata": {},
   "outputs": [
    {
     "data": {
      "text/plain": [
       "4855"
      ]
     },
     "execution_count": 25,
     "metadata": {},
     "output_type": "execute_result"
    }
   ],
   "source": [
    "gen.__len__()"
   ]
  },
  {
   "cell_type": "code",
   "execution_count": 39,
   "id": "e1a9edba",
   "metadata": {},
   "outputs": [],
   "source": []
  }
 ],
 "metadata": {
  "kernelspec": {
   "display_name": "Python 3",
   "language": "python",
   "name": "python3"
  },
  "language_info": {
   "codemirror_mode": {
    "name": "ipython",
    "version": 3
   },
   "file_extension": ".py",
   "mimetype": "text/x-python",
   "name": "python",
   "nbconvert_exporter": "python",
   "pygments_lexer": "ipython3",
   "version": "3.7.10"
  }
 },
 "nbformat": 4,
 "nbformat_minor": 5
}
